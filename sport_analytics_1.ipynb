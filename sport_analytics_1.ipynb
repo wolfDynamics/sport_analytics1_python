{
 "cells": [
  {
   "cell_type": "markdown",
   "metadata": {},
   "source": [
    "# Data scraping, data wrangling, data analytics, exploratory data analysis, advaced plotting and clustering with love."
   ]
  },
  {
   "cell_type": "markdown",
   "metadata": {},
   "source": [
    "In this series of tutorials, we are going to address how to do data scraping, data wrangling, data analytics and advaced plotting. This is a sport analytics case. "
   ]
  },
  {
   "cell_type": "markdown",
   "metadata": {},
   "source": [
    "In this particular tutorial we address how to extract data or data scraping from the web. We also address some basic `DataFrame` manipulation."
   ]
  },
  {
   "cell_type": "code",
   "execution_count": null,
   "metadata": {
    "collapsed": true
   },
   "outputs": [],
   "source": []
  },
  {
   "cell_type": "code",
   "execution_count": 2,
   "metadata": {
    "collapsed": true
   },
   "outputs": [],
   "source": [
    "%matplotlib inline"
   ]
  },
  {
   "cell_type": "code",
   "execution_count": null,
   "metadata": {
    "collapsed": true
   },
   "outputs": [],
   "source": []
  },
  {
   "cell_type": "code",
   "execution_count": 3,
   "metadata": {
    "collapsed": true
   },
   "outputs": [],
   "source": [
    "import requests\n",
    "import pandas as pd\n"
   ]
  },
  {
   "cell_type": "code",
   "execution_count": null,
   "metadata": {
    "collapsed": true
   },
   "outputs": [],
   "source": []
  },
  {
   "cell_type": "markdown",
   "metadata": {},
   "source": [
    "In order to do data analytics, we need data. So the first thing to do is get the data from somewhere.\n",
    "\n",
    "Hereafter we are going to work with NBA players data. In the NBA site stats.nba.com you will find all the statistics for every single player.\n",
    "\n",
    "In the following blog post [1] \n",
    "\n",
    "http://www.gregreda.com/2015/02/15/web-scraping-finding-the-api/\n",
    "\n",
    "you will find a pretty good explanation of how to get the data from stats.nba.com [2] (or any other site for this matter).  \n",
    "\n",
    "Remember, the most important part when scraping data from a web site, is knowing how to access the API used to collect the data."
   ]
  },
  {
   "cell_type": "code",
   "execution_count": null,
   "metadata": {
    "collapsed": true
   },
   "outputs": [],
   "source": []
  },
  {
   "cell_type": "markdown",
   "metadata": {},
   "source": [
    "To get Lebron James shot chart data we will use this url:"
   ]
  },
  {
   "cell_type": "code",
   "execution_count": 4,
   "metadata": {
    "collapsed": true
   },
   "outputs": [],
   "source": [
    "#Lebron James data\n",
    "#PlayerID is the number in the nba.stats site\n",
    "\n",
    "shot_chart_url = 'http://stats.nba.com/stats/shotchartdetail?CFID=33&CFPAR'\\\n",
    "                'AMS=2014-15&ContextFilter=&ContextMeasure=FGA&DateFrom=&D'\\\n",
    "                'ateTo=&GameID=&GameSegment=&LastNGames=0&LeagueID=00&Loca'\\\n",
    "                'tion=&MeasureType=Base&Month=0&OpponentTeamID=0&Outcome=&'\\\n",
    "                'PaceAdjust=N&PerMode=PerGame&Period=0&PlayerID=2544&Plu'\\\n",
    "                'sMinus=N&Position=&Rank=N&RookieYear=&Season=2014-15&Seas'\\\n",
    "                'onSegment=&SeasonType=Regular+Season&TeamID=0&VsConferenc'\\\n",
    "                'e=&VsDivision=&mode=Advanced&showDetails=0&showShots=1&sh'\\\n",
    "                'owZones=0'  \n",
    "                "
   ]
  },
  {
   "cell_type": "markdown",
   "metadata": {},
   "source": [
    "Have in mind that the previous url corresponds to Lebron James shot chart data.  If you want to access different data, another player or the data for a specifc team, you will need to find the right link."
   ]
  },
  {
   "cell_type": "code",
   "execution_count": null,
   "metadata": {
    "collapsed": true
   },
   "outputs": [],
   "source": []
  },
  {
   "cell_type": "markdown",
   "metadata": {},
   "source": [
    "By now, we already know that the file is in json format. If you have **JSONView** [3] installed in your web browser, you can view the content of the file. Just copy and paste the link in your web browser\n",
    "\n",
    "http://stats.nba.com/stats/shotchartdetail?CFID=33&CFPARAMS=2014-15&ContextFilter=&ContextMeasure=FGA&DateFrom=&DateTo=&GameID=&GameSegment=&LastNGames=0&LeagueID=00&Location=&MeasureType=Base&Month=0&OpponentTeamID=0&Outcome=&PaceAdjust=N&PerMode=PerGame&Period=0&PlayerID=2544&PlusMinus=N&Position=&Rank=N&RookieYear=&Season=2014-15&SeasonSegment=&SeasonType=Regular+Season&TeamID=0&VsConference=&VsDivision=&mode=Advanced&showDetails=0&showShots=1&showZones=0"
   ]
  },
  {
   "cell_type": "code",
   "execution_count": null,
   "metadata": {
    "collapsed": true
   },
   "outputs": [],
   "source": []
  },
  {
   "cell_type": "markdown",
   "metadata": {},
   "source": [
    "Now let's use the module **requests** [4] to get the server data from `shot_chart_url`. \n",
    "\n",
    "**requests** is an Apache2 Licensed HTTP library, you can find more information about requests in the following link http://docs.python-requests.org/en/latest/#"
   ]
  },
  {
   "cell_type": "code",
   "execution_count": 5,
   "metadata": {
    "collapsed": false
   },
   "outputs": [],
   "source": [
    "# Get the webpage containing the data\n",
    "response = requests.get(shot_chart_url)\n"
   ]
  },
  {
   "cell_type": "code",
   "execution_count": null,
   "metadata": {
    "collapsed": false
   },
   "outputs": [],
   "source": []
  },
  {
   "cell_type": "markdown",
   "metadata": {},
   "source": [
    "We can view the server data header as follows:"
   ]
  },
  {
   "cell_type": "code",
   "execution_count": 6,
   "metadata": {
    "collapsed": false
   },
   "outputs": [
    {
     "data": {
      "text/plain": [
       "{'content-length': '22207', 'content-encoding': 'gzip', 'expires': 'Sun, 06 Sep 2015 15:06:20 GMT', 'vary': 'Accept-Encoding', 'server': 'Microsoft-IIS/7.5', 'last-modified': 'Sun, 06 Sep 2015 15:06:20 GMT', 'connection': 'keep-alive', 'pragma': 'no-cache', 'cache-control': 'no-cache, no-store, must-revalidate', 'date': 'Sun, 06 Sep 2015 15:06:20 GMT', 'x-powered-by': 'ASP.NET', 'content-type': 'application/json; charset=utf-8', 'x-aspnet-version': '4.0.30319'}"
      ]
     },
     "execution_count": 6,
     "metadata": {},
     "output_type": "execute_result"
    }
   ],
   "source": [
    "response.headers\n"
   ]
  },
  {
   "cell_type": "code",
   "execution_count": null,
   "metadata": {
    "collapsed": true
   },
   "outputs": [],
   "source": []
  },
  {
   "cell_type": "markdown",
   "metadata": {},
   "source": [
    "Now we can access the header data using any string we want, no need to say that the string must exist in the server headers:"
   ]
  },
  {
   "cell_type": "code",
   "execution_count": 7,
   "metadata": {
    "collapsed": false
   },
   "outputs": [
    {
     "data": {
      "text/plain": [
       "'application/json; charset=utf-8'"
      ]
     },
     "execution_count": 7,
     "metadata": {},
     "output_type": "execute_result"
    }
   ],
   "source": [
    "response.headers['content-type']\n"
   ]
  },
  {
   "cell_type": "markdown",
   "metadata": {},
   "source": [
    "As we can see, the data is in json format. \n",
    "\n",
    "By the way, when we were doing web scraping we already knew that the data was in json format. I just showed you how to get that info from the header."
   ]
  },
  {
   "cell_type": "code",
   "execution_count": null,
   "metadata": {
    "collapsed": true
   },
   "outputs": [],
   "source": []
  },
  {
   "cell_type": "markdown",
   "metadata": {},
   "source": [
    "In the module **requests**, there is also a builtin JSON decoder.  To print the content of `responce`, we can proceed as follows"
   ]
  },
  {
   "cell_type": "code",
   "execution_count": 8,
   "metadata": {
    "collapsed": false
   },
   "outputs": [],
   "source": [
    "#uncomment this line to print the content of responce\n",
    "#response.json()\n",
    "\n",
    "#to time the function\n",
    "#%time response.json()\n"
   ]
  },
  {
   "cell_type": "code",
   "execution_count": null,
   "metadata": {
    "collapsed": false
   },
   "outputs": [],
   "source": []
  },
  {
   "cell_type": "markdown",
   "metadata": {},
   "source": [
    "Now we are ready to get the data we want in order to construct the **pandas** [5] `DataFrame`."
   ]
  },
  {
   "cell_type": "code",
   "execution_count": 9,
   "metadata": {
    "collapsed": true
   },
   "outputs": [],
   "source": [
    "# Grab the headers to be used as column headers for our DataFrame\n",
    "headers = response.json()['resultSets'][0]['headers']\n"
   ]
  },
  {
   "cell_type": "markdown",
   "metadata": {},
   "source": [
    "The data is in standard json format, and is made of three main blocks. \n",
    "\n",
    "We are interested in getting the data from the block **`resultSets`**, therefore the notation **`response.json()['resultSets']`**\n",
    "\n",
    "The **`resultSets`** block has two sub-blocks, we want to access the first one or the one with the name **`Shot_Chart_Detail`**, therefore the notation **`response.json()['resultSets'][0]`**\n",
    "\n",
    "Now we want to access the information contained in **`headers`**, hence the notation **`response.json()['resultSets'][0]['headers']`**\n",
    "\n",
    "The object **`response.json()['resultSets'][0]['headers']`** contains the headers' names of each column.\n",
    "\n",
    "\n",
    "<img src=\"json.png\" style=\"width: 70%; height: 70%\"/>"
   ]
  },
  {
   "cell_type": "code",
   "execution_count": null,
   "metadata": {
    "collapsed": true
   },
   "outputs": [],
   "source": []
  },
  {
   "cell_type": "markdown",
   "metadata": {},
   "source": [
    "To grab the shot chart data or **`Shot Chart Detail`** in the json data, we proceed in a similar way. Have in mind that the data of interest is located in the block **`rowSet`**.  Therefore the notation **`response.json()['resultSets'][0]['rowSet']`**"
   ]
  },
  {
   "cell_type": "code",
   "execution_count": 10,
   "metadata": {
    "collapsed": true
   },
   "outputs": [],
   "source": [
    "# Grab the shot chart data\n",
    "shots = response.json()['resultSets'][0]['rowSet']\n"
   ]
  },
  {
   "cell_type": "code",
   "execution_count": null,
   "metadata": {
    "collapsed": false
   },
   "outputs": [],
   "source": []
  },
  {
   "cell_type": "markdown",
   "metadata": {},
   "source": [
    "To know the type of the variables `headers` and `shots`, we can proceed as follows:"
   ]
  },
  {
   "cell_type": "code",
   "execution_count": 11,
   "metadata": {
    "collapsed": false
   },
   "outputs": [
    {
     "data": {
      "text/plain": [
       "list"
      ]
     },
     "execution_count": 11,
     "metadata": {},
     "output_type": "execute_result"
    }
   ],
   "source": [
    "type(headers)"
   ]
  },
  {
   "cell_type": "code",
   "execution_count": 12,
   "metadata": {
    "collapsed": false
   },
   "outputs": [
    {
     "data": {
      "text/plain": [
       "list"
      ]
     },
     "execution_count": 12,
     "metadata": {},
     "output_type": "execute_result"
    }
   ],
   "source": [
    "type(shots)"
   ]
  },
  {
   "cell_type": "code",
   "execution_count": null,
   "metadata": {
    "collapsed": false
   },
   "outputs": [],
   "source": []
  },
  {
   "cell_type": "markdown",
   "metadata": {},
   "source": [
    "Now we can create a **pandas** `DataFrame` using the scraped shot chart data. \n",
    "\n",
    "Remember, the data is saved in the objects `shots` and `headers` created in the previous step.\n",
    "\n",
    "To create the `DataFrame`, we can proceed as follows:\n"
   ]
  },
  {
   "cell_type": "code",
   "execution_count": 13,
   "metadata": {
    "collapsed": true
   },
   "outputs": [],
   "source": [
    "shot_df = pd.DataFrame(data=shots, columns=headers)\n"
   ]
  },
  {
   "cell_type": "markdown",
   "metadata": {},
   "source": [
    "At this point, we have a pandas' `DataFrame` ready to use."
   ]
  },
  {
   "cell_type": "code",
   "execution_count": null,
   "metadata": {
    "collapsed": true
   },
   "outputs": [],
   "source": []
  },
  {
   "cell_type": "markdown",
   "metadata": {
    "collapsed": false
   },
   "source": [
    "The `DataFrame` `shot_df` contains the shot chart data of all the the field goal attempts Lebron James took during the 2014-15 regular season. \n",
    "\n",
    "We are specifically interested in the data saved in the columns `LOC_X`, `LOC_Y` and `SHOT_MADE_FLAG`. \n",
    "\n",
    "`LOC_X` and `LOC_Y` are the coordinate values for each shot attempted and `SHOT_MADE_FLAG` contains the outcome of the shot (missed it or made it).\n",
    "\n",
    "To display the data saved in `shot_df`, you can proceed as follows\n"
   ]
  },
  {
   "cell_type": "code",
   "execution_count": 14,
   "metadata": {
    "collapsed": false
   },
   "outputs": [
    {
     "data": {
      "text/html": [
       "<div>\n",
       "<table border=\"1\" class=\"dataframe\">\n",
       "  <thead>\n",
       "    <tr style=\"text-align: right;\">\n",
       "      <th></th>\n",
       "      <th>GRID_TYPE</th>\n",
       "      <th>GAME_ID</th>\n",
       "      <th>GAME_EVENT_ID</th>\n",
       "      <th>PLAYER_ID</th>\n",
       "      <th>PLAYER_NAME</th>\n",
       "      <th>TEAM_ID</th>\n",
       "      <th>TEAM_NAME</th>\n",
       "      <th>PERIOD</th>\n",
       "      <th>MINUTES_REMAINING</th>\n",
       "      <th>SECONDS_REMAINING</th>\n",
       "      <th>...</th>\n",
       "      <th>ACTION_TYPE</th>\n",
       "      <th>SHOT_TYPE</th>\n",
       "      <th>SHOT_ZONE_BASIC</th>\n",
       "      <th>SHOT_ZONE_AREA</th>\n",
       "      <th>SHOT_ZONE_RANGE</th>\n",
       "      <th>SHOT_DISTANCE</th>\n",
       "      <th>LOC_X</th>\n",
       "      <th>LOC_Y</th>\n",
       "      <th>SHOT_ATTEMPTED_FLAG</th>\n",
       "      <th>SHOT_MADE_FLAG</th>\n",
       "    </tr>\n",
       "  </thead>\n",
       "  <tbody>\n",
       "    <tr>\n",
       "      <th>0</th>\n",
       "      <td>Shot Chart Detail</td>\n",
       "      <td>0021400018</td>\n",
       "      <td>4</td>\n",
       "      <td>2544</td>\n",
       "      <td>LeBron James</td>\n",
       "      <td>1610612739</td>\n",
       "      <td>Cleveland Cavaliers</td>\n",
       "      <td>1</td>\n",
       "      <td>11</td>\n",
       "      <td>20</td>\n",
       "      <td>...</td>\n",
       "      <td>Jump Shot</td>\n",
       "      <td>2PT Field Goal</td>\n",
       "      <td>Mid-Range</td>\n",
       "      <td>Right Side Center(RC)</td>\n",
       "      <td>16-24 ft.</td>\n",
       "      <td>18</td>\n",
       "      <td>114</td>\n",
       "      <td>148</td>\n",
       "      <td>1</td>\n",
       "      <td>0</td>\n",
       "    </tr>\n",
       "    <tr>\n",
       "      <th>1</th>\n",
       "      <td>Shot Chart Detail</td>\n",
       "      <td>0021400018</td>\n",
       "      <td>33</td>\n",
       "      <td>2544</td>\n",
       "      <td>LeBron James</td>\n",
       "      <td>1610612739</td>\n",
       "      <td>Cleveland Cavaliers</td>\n",
       "      <td>1</td>\n",
       "      <td>6</td>\n",
       "      <td>30</td>\n",
       "      <td>...</td>\n",
       "      <td>Layup Shot</td>\n",
       "      <td>2PT Field Goal</td>\n",
       "      <td>Restricted Area</td>\n",
       "      <td>Center(C)</td>\n",
       "      <td>Less Than 8 ft.</td>\n",
       "      <td>0</td>\n",
       "      <td>-7</td>\n",
       "      <td>0</td>\n",
       "      <td>1</td>\n",
       "      <td>1</td>\n",
       "    </tr>\n",
       "    <tr>\n",
       "      <th>2</th>\n",
       "      <td>Shot Chart Detail</td>\n",
       "      <td>0021400018</td>\n",
       "      <td>53</td>\n",
       "      <td>2544</td>\n",
       "      <td>LeBron James</td>\n",
       "      <td>1610612739</td>\n",
       "      <td>Cleveland Cavaliers</td>\n",
       "      <td>1</td>\n",
       "      <td>4</td>\n",
       "      <td>45</td>\n",
       "      <td>...</td>\n",
       "      <td>Fadeaway Jump Shot</td>\n",
       "      <td>2PT Field Goal</td>\n",
       "      <td>Mid-Range</td>\n",
       "      <td>Left Side(L)</td>\n",
       "      <td>8-16 ft.</td>\n",
       "      <td>12</td>\n",
       "      <td>-105</td>\n",
       "      <td>63</td>\n",
       "      <td>1</td>\n",
       "      <td>0</td>\n",
       "    </tr>\n",
       "    <tr>\n",
       "      <th>3</th>\n",
       "      <td>Shot Chart Detail</td>\n",
       "      <td>0021400018</td>\n",
       "      <td>77</td>\n",
       "      <td>2544</td>\n",
       "      <td>LeBron James</td>\n",
       "      <td>1610612739</td>\n",
       "      <td>Cleveland Cavaliers</td>\n",
       "      <td>1</td>\n",
       "      <td>2</td>\n",
       "      <td>31</td>\n",
       "      <td>...</td>\n",
       "      <td>Jump Shot</td>\n",
       "      <td>3PT Field Goal</td>\n",
       "      <td>Right Corner 3</td>\n",
       "      <td>Right Side(R)</td>\n",
       "      <td>24+ ft.</td>\n",
       "      <td>22</td>\n",
       "      <td>227</td>\n",
       "      <td>-16</td>\n",
       "      <td>1</td>\n",
       "      <td>0</td>\n",
       "    </tr>\n",
       "  </tbody>\n",
       "</table>\n",
       "<p>4 rows × 21 columns</p>\n",
       "</div>"
      ],
      "text/plain": [
       "           GRID_TYPE     GAME_ID  GAME_EVENT_ID  PLAYER_ID   PLAYER_NAME  \\\n",
       "0  Shot Chart Detail  0021400018              4       2544  LeBron James   \n",
       "1  Shot Chart Detail  0021400018             33       2544  LeBron James   \n",
       "2  Shot Chart Detail  0021400018             53       2544  LeBron James   \n",
       "3  Shot Chart Detail  0021400018             77       2544  LeBron James   \n",
       "\n",
       "      TEAM_ID            TEAM_NAME  PERIOD  MINUTES_REMAINING  \\\n",
       "0  1610612739  Cleveland Cavaliers       1                 11   \n",
       "1  1610612739  Cleveland Cavaliers       1                  6   \n",
       "2  1610612739  Cleveland Cavaliers       1                  4   \n",
       "3  1610612739  Cleveland Cavaliers       1                  2   \n",
       "\n",
       "   SECONDS_REMAINING       ...               ACTION_TYPE       SHOT_TYPE  \\\n",
       "0                 20       ...                 Jump Shot  2PT Field Goal   \n",
       "1                 30       ...                Layup Shot  2PT Field Goal   \n",
       "2                 45       ...        Fadeaway Jump Shot  2PT Field Goal   \n",
       "3                 31       ...                 Jump Shot  3PT Field Goal   \n",
       "\n",
       "   SHOT_ZONE_BASIC         SHOT_ZONE_AREA  SHOT_ZONE_RANGE SHOT_DISTANCE  \\\n",
       "0        Mid-Range  Right Side Center(RC)        16-24 ft.            18   \n",
       "1  Restricted Area              Center(C)  Less Than 8 ft.             0   \n",
       "2        Mid-Range           Left Side(L)         8-16 ft.            12   \n",
       "3   Right Corner 3          Right Side(R)          24+ ft.            22   \n",
       "\n",
       "   LOC_X  LOC_Y  SHOT_ATTEMPTED_FLAG  SHOT_MADE_FLAG  \n",
       "0    114    148                    1               0  \n",
       "1     -7      0                    1               1  \n",
       "2   -105     63                    1               0  \n",
       "3    227    -16                    1               0  \n",
       "\n",
       "[4 rows x 21 columns]"
      ]
     },
     "execution_count": 14,
     "metadata": {},
     "output_type": "execute_result"
    }
   ],
   "source": [
    "#shot_df.head()\n",
    "shot_df.head(4)\n"
   ]
  },
  {
   "cell_type": "markdown",
   "metadata": {},
   "source": [
    "As we are only interested in printing the first 4 rows, we use **.head(4)**.  If you do not use **.head(4)** it will display all the rows."
   ]
  },
  {
   "cell_type": "code",
   "execution_count": null,
   "metadata": {
    "collapsed": true
   },
   "outputs": [],
   "source": []
  },
  {
   "cell_type": "markdown",
   "metadata": {},
   "source": [
    "To print a concise summary of the `DataFrame`,"
   ]
  },
  {
   "cell_type": "code",
   "execution_count": 57,
   "metadata": {
    "collapsed": false
   },
   "outputs": [
    {
     "name": "stdout",
     "output_type": "stream",
     "text": [
      "<class 'pandas.core.frame.DataFrame'>\n",
      "Int64Index: 1279 entries, 0 to 1278\n",
      "Data columns (total 21 columns):\n",
      "GRID_TYPE              1279 non-null object\n",
      "GAME_ID                1279 non-null object\n",
      "GAME_EVENT_ID          1279 non-null int64\n",
      "PLAYER_ID              1279 non-null int64\n",
      "PLAYER_NAME            1279 non-null object\n",
      "TEAM_ID                1279 non-null int64\n",
      "TEAM_NAME              1279 non-null object\n",
      "PERIOD                 1279 non-null int64\n",
      "MINUTES_REMAINING      1279 non-null int64\n",
      "SECONDS_REMAINING      1279 non-null int64\n",
      "EVENT_TYPE             1279 non-null object\n",
      "ACTION_TYPE            1279 non-null object\n",
      "SHOT_TYPE              1279 non-null object\n",
      "SHOT_ZONE_BASIC        1279 non-null object\n",
      "SHOT_ZONE_AREA         1279 non-null object\n",
      "SHOT_ZONE_RANGE        1279 non-null object\n",
      "SHOT_DISTANCE          1279 non-null int64\n",
      "LOC_X                  1279 non-null int64\n",
      "LOC_Y                  1279 non-null int64\n",
      "SHOT_ATTEMPTED_FLAG    1279 non-null int64\n",
      "SHOT_MADE_FLAG         1279 non-null int64\n",
      "dtypes: int64(11), object(10)\n",
      "memory usage: 219.8+ KB\n"
     ]
    }
   ],
   "source": [
    "shot_df.info()\n"
   ]
  },
  {
   "cell_type": "code",
   "execution_count": null,
   "metadata": {
    "collapsed": true
   },
   "outputs": [],
   "source": []
  },
  {
   "cell_type": "markdown",
   "metadata": {},
   "source": [
    "To print the names of the columns in the `DataFrame`,"
   ]
  },
  {
   "cell_type": "code",
   "execution_count": 58,
   "metadata": {
    "collapsed": false
   },
   "outputs": [
    {
     "data": {
      "text/plain": [
       "Index([          u'GRID_TYPE',             u'GAME_ID',       u'GAME_EVENT_ID',\n",
       "                 u'PLAYER_ID',         u'PLAYER_NAME',             u'TEAM_ID',\n",
       "                 u'TEAM_NAME',              u'PERIOD',   u'MINUTES_REMAINING',\n",
       "         u'SECONDS_REMAINING',          u'EVENT_TYPE',         u'ACTION_TYPE',\n",
       "                 u'SHOT_TYPE',     u'SHOT_ZONE_BASIC',      u'SHOT_ZONE_AREA',\n",
       "           u'SHOT_ZONE_RANGE',       u'SHOT_DISTANCE',               u'LOC_X',\n",
       "                     u'LOC_Y', u'SHOT_ATTEMPTED_FLAG',      u'SHOT_MADE_FLAG'],\n",
       "      dtype='object')"
      ]
     },
     "execution_count": 58,
     "metadata": {},
     "output_type": "execute_result"
    }
   ],
   "source": [
    "shot_df.columns\n"
   ]
  },
  {
   "cell_type": "code",
   "execution_count": null,
   "metadata": {
    "collapsed": true
   },
   "outputs": [],
   "source": []
  },
  {
   "cell_type": "markdown",
   "metadata": {},
   "source": [
    "And in a similar way we can print the names of the rows (indexs) in the `DataFrame`,"
   ]
  },
  {
   "cell_type": "code",
   "execution_count": 59,
   "metadata": {
    "collapsed": false
   },
   "outputs": [
    {
     "data": {
      "text/plain": [
       "Int64Index([   0,    1,    2,    3,    4,    5,    6,    7,    8,    9, \n",
       "            ...\n",
       "            1269, 1270, 1271, 1272, 1273, 1274, 1275, 1276, 1277, 1278],\n",
       "           dtype='int64', length=1279)"
      ]
     },
     "execution_count": 59,
     "metadata": {},
     "output_type": "execute_result"
    }
   ],
   "source": [
    "shot_df.index\n"
   ]
  },
  {
   "cell_type": "code",
   "execution_count": null,
   "metadata": {
    "collapsed": true
   },
   "outputs": [],
   "source": []
  },
  {
   "cell_type": "markdown",
   "metadata": {},
   "source": [
    "We can also display all the columns belonging to rows 0 to 2, as follows,"
   ]
  },
  {
   "cell_type": "code",
   "execution_count": 60,
   "metadata": {
    "collapsed": false
   },
   "outputs": [
    {
     "data": {
      "text/html": [
       "<div>\n",
       "<table border=\"1\" class=\"dataframe\">\n",
       "  <thead>\n",
       "    <tr style=\"text-align: right;\">\n",
       "      <th></th>\n",
       "      <th>GRID_TYPE</th>\n",
       "      <th>GAME_ID</th>\n",
       "      <th>GAME_EVENT_ID</th>\n",
       "      <th>PLAYER_ID</th>\n",
       "      <th>PLAYER_NAME</th>\n",
       "      <th>TEAM_ID</th>\n",
       "      <th>TEAM_NAME</th>\n",
       "      <th>PERIOD</th>\n",
       "      <th>MINUTES_REMAINING</th>\n",
       "      <th>SECONDS_REMAINING</th>\n",
       "      <th>EVENT_TYPE</th>\n",
       "      <th>ACTION_TYPE</th>\n",
       "      <th>SHOT_TYPE</th>\n",
       "      <th>SHOT_ZONE_BASIC</th>\n",
       "      <th>SHOT_ZONE_AREA</th>\n",
       "      <th>SHOT_ZONE_RANGE</th>\n",
       "      <th>SHOT_DISTANCE</th>\n",
       "      <th>LOC_X</th>\n",
       "      <th>LOC_Y</th>\n",
       "      <th>SHOT_ATTEMPTED_FLAG</th>\n",
       "      <th>SHOT_MADE_FLAG</th>\n",
       "    </tr>\n",
       "  </thead>\n",
       "  <tbody>\n",
       "    <tr>\n",
       "      <th>0</th>\n",
       "      <td>Shot Chart Detail</td>\n",
       "      <td>0021400018</td>\n",
       "      <td>4</td>\n",
       "      <td>2544</td>\n",
       "      <td>LeBron James</td>\n",
       "      <td>1610612739</td>\n",
       "      <td>Cleveland Cavaliers</td>\n",
       "      <td>1</td>\n",
       "      <td>11</td>\n",
       "      <td>20</td>\n",
       "      <td>Missed Shot</td>\n",
       "      <td>Jump Shot</td>\n",
       "      <td>2PT Field Goal</td>\n",
       "      <td>Mid-Range</td>\n",
       "      <td>Right Side Center(RC)</td>\n",
       "      <td>16-24 ft.</td>\n",
       "      <td>18</td>\n",
       "      <td>114</td>\n",
       "      <td>148</td>\n",
       "      <td>1</td>\n",
       "      <td>0</td>\n",
       "    </tr>\n",
       "    <tr>\n",
       "      <th>1</th>\n",
       "      <td>Shot Chart Detail</td>\n",
       "      <td>0021400018</td>\n",
       "      <td>33</td>\n",
       "      <td>2544</td>\n",
       "      <td>LeBron James</td>\n",
       "      <td>1610612739</td>\n",
       "      <td>Cleveland Cavaliers</td>\n",
       "      <td>1</td>\n",
       "      <td>6</td>\n",
       "      <td>30</td>\n",
       "      <td>Made Shot</td>\n",
       "      <td>Layup Shot</td>\n",
       "      <td>2PT Field Goal</td>\n",
       "      <td>Restricted Area</td>\n",
       "      <td>Center(C)</td>\n",
       "      <td>Less Than 8 ft.</td>\n",
       "      <td>0</td>\n",
       "      <td>-7</td>\n",
       "      <td>0</td>\n",
       "      <td>1</td>\n",
       "      <td>1</td>\n",
       "    </tr>\n",
       "  </tbody>\n",
       "</table>\n",
       "</div>"
      ],
      "text/plain": [
       "           GRID_TYPE     GAME_ID  GAME_EVENT_ID  PLAYER_ID   PLAYER_NAME  \\\n",
       "0  Shot Chart Detail  0021400018              4       2544  LeBron James   \n",
       "1  Shot Chart Detail  0021400018             33       2544  LeBron James   \n",
       "\n",
       "      TEAM_ID            TEAM_NAME  PERIOD  MINUTES_REMAINING  \\\n",
       "0  1610612739  Cleveland Cavaliers       1                 11   \n",
       "1  1610612739  Cleveland Cavaliers       1                  6   \n",
       "\n",
       "   SECONDS_REMAINING   EVENT_TYPE ACTION_TYPE       SHOT_TYPE  \\\n",
       "0                 20  Missed Shot   Jump Shot  2PT Field Goal   \n",
       "1                 30    Made Shot  Layup Shot  2PT Field Goal   \n",
       "\n",
       "   SHOT_ZONE_BASIC         SHOT_ZONE_AREA  SHOT_ZONE_RANGE  SHOT_DISTANCE  \\\n",
       "0        Mid-Range  Right Side Center(RC)        16-24 ft.             18   \n",
       "1  Restricted Area              Center(C)  Less Than 8 ft.              0   \n",
       "\n",
       "   LOC_X  LOC_Y  SHOT_ATTEMPTED_FLAG  SHOT_MADE_FLAG  \n",
       "0    114    148                    1               0  \n",
       "1     -7      0                    1               1  "
      ]
     },
     "execution_count": 60,
     "metadata": {},
     "output_type": "execute_result"
    }
   ],
   "source": [
    "shot_df.iloc[0:2,:]\n"
   ]
  },
  {
   "cell_type": "code",
   "execution_count": null,
   "metadata": {
    "collapsed": true
   },
   "outputs": [],
   "source": []
  },
  {
   "cell_type": "markdown",
   "metadata": {},
   "source": [
    "or we can display the first two columns of the first four rows, as follows,"
   ]
  },
  {
   "cell_type": "code",
   "execution_count": 61,
   "metadata": {
    "collapsed": false
   },
   "outputs": [
    {
     "data": {
      "text/html": [
       "<div>\n",
       "<table border=\"1\" class=\"dataframe\">\n",
       "  <thead>\n",
       "    <tr style=\"text-align: right;\">\n",
       "      <th></th>\n",
       "      <th>GRID_TYPE</th>\n",
       "      <th>GAME_ID</th>\n",
       "    </tr>\n",
       "  </thead>\n",
       "  <tbody>\n",
       "    <tr>\n",
       "      <th>0</th>\n",
       "      <td>Shot Chart Detail</td>\n",
       "      <td>0021400018</td>\n",
       "    </tr>\n",
       "    <tr>\n",
       "      <th>1</th>\n",
       "      <td>Shot Chart Detail</td>\n",
       "      <td>0021400018</td>\n",
       "    </tr>\n",
       "    <tr>\n",
       "      <th>2</th>\n",
       "      <td>Shot Chart Detail</td>\n",
       "      <td>0021400018</td>\n",
       "    </tr>\n",
       "    <tr>\n",
       "      <th>3</th>\n",
       "      <td>Shot Chart Detail</td>\n",
       "      <td>0021400018</td>\n",
       "    </tr>\n",
       "  </tbody>\n",
       "</table>\n",
       "</div>"
      ],
      "text/plain": [
       "           GRID_TYPE     GAME_ID\n",
       "0  Shot Chart Detail  0021400018\n",
       "1  Shot Chart Detail  0021400018\n",
       "2  Shot Chart Detail  0021400018\n",
       "3  Shot Chart Detail  0021400018"
      ]
     },
     "execution_count": 61,
     "metadata": {},
     "output_type": "execute_result"
    }
   ],
   "source": [
    "shot_df.iloc[0:4,0:2]\n"
   ]
  },
  {
   "cell_type": "code",
   "execution_count": null,
   "metadata": {
    "collapsed": true
   },
   "outputs": [],
   "source": []
  },
  {
   "cell_type": "markdown",
   "metadata": {},
   "source": [
    "If you do not define the labels of the columns in the **pandas** `DataFrame`, the column labels will default to `np.arange(n)`."
   ]
  },
  {
   "cell_type": "code",
   "execution_count": 16,
   "metadata": {
    "collapsed": false
   },
   "outputs": [
    {
     "data": {
      "text/html": [
       "<div>\n",
       "<table border=\"1\" class=\"dataframe\">\n",
       "  <thead>\n",
       "    <tr style=\"text-align: right;\">\n",
       "      <th></th>\n",
       "      <th>0</th>\n",
       "      <th>1</th>\n",
       "      <th>2</th>\n",
       "      <th>3</th>\n",
       "      <th>4</th>\n",
       "      <th>5</th>\n",
       "      <th>6</th>\n",
       "      <th>7</th>\n",
       "      <th>8</th>\n",
       "      <th>9</th>\n",
       "      <th>...</th>\n",
       "      <th>11</th>\n",
       "      <th>12</th>\n",
       "      <th>13</th>\n",
       "      <th>14</th>\n",
       "      <th>15</th>\n",
       "      <th>16</th>\n",
       "      <th>17</th>\n",
       "      <th>18</th>\n",
       "      <th>19</th>\n",
       "      <th>20</th>\n",
       "    </tr>\n",
       "  </thead>\n",
       "  <tbody>\n",
       "    <tr>\n",
       "      <th>0</th>\n",
       "      <td>Shot Chart Detail</td>\n",
       "      <td>0021400018</td>\n",
       "      <td>4</td>\n",
       "      <td>2544</td>\n",
       "      <td>LeBron James</td>\n",
       "      <td>1610612739</td>\n",
       "      <td>Cleveland Cavaliers</td>\n",
       "      <td>1</td>\n",
       "      <td>11</td>\n",
       "      <td>20</td>\n",
       "      <td>...</td>\n",
       "      <td>Jump Shot</td>\n",
       "      <td>2PT Field Goal</td>\n",
       "      <td>Mid-Range</td>\n",
       "      <td>Right Side Center(RC)</td>\n",
       "      <td>16-24 ft.</td>\n",
       "      <td>18</td>\n",
       "      <td>114</td>\n",
       "      <td>148</td>\n",
       "      <td>1</td>\n",
       "      <td>0</td>\n",
       "    </tr>\n",
       "    <tr>\n",
       "      <th>1</th>\n",
       "      <td>Shot Chart Detail</td>\n",
       "      <td>0021400018</td>\n",
       "      <td>33</td>\n",
       "      <td>2544</td>\n",
       "      <td>LeBron James</td>\n",
       "      <td>1610612739</td>\n",
       "      <td>Cleveland Cavaliers</td>\n",
       "      <td>1</td>\n",
       "      <td>6</td>\n",
       "      <td>30</td>\n",
       "      <td>...</td>\n",
       "      <td>Layup Shot</td>\n",
       "      <td>2PT Field Goal</td>\n",
       "      <td>Restricted Area</td>\n",
       "      <td>Center(C)</td>\n",
       "      <td>Less Than 8 ft.</td>\n",
       "      <td>0</td>\n",
       "      <td>-7</td>\n",
       "      <td>0</td>\n",
       "      <td>1</td>\n",
       "      <td>1</td>\n",
       "    </tr>\n",
       "  </tbody>\n",
       "</table>\n",
       "<p>2 rows × 21 columns</p>\n",
       "</div>"
      ],
      "text/plain": [
       "                  0           1   2     3             4           5   \\\n",
       "0  Shot Chart Detail  0021400018   4  2544  LeBron James  1610612739   \n",
       "1  Shot Chart Detail  0021400018  33  2544  LeBron James  1610612739   \n",
       "\n",
       "                    6   7   8   9  ...          11              12  \\\n",
       "0  Cleveland Cavaliers   1  11  20 ...   Jump Shot  2PT Field Goal   \n",
       "1  Cleveland Cavaliers   1   6  30 ...  Layup Shot  2PT Field Goal   \n",
       "\n",
       "                13                     14               15  16   17   18  19  \\\n",
       "0        Mid-Range  Right Side Center(RC)        16-24 ft.  18  114  148   1   \n",
       "1  Restricted Area              Center(C)  Less Than 8 ft.   0   -7    0   1   \n",
       "\n",
       "   20  \n",
       "0   0  \n",
       "1   1  \n",
       "\n",
       "[2 rows x 21 columns]"
      ]
     },
     "execution_count": 16,
     "metadata": {},
     "output_type": "execute_result"
    }
   ],
   "source": [
    "shot_df1 = pd.DataFrame(data=shots)\n",
    "shot_df1.head(2)\n"
   ]
  },
  {
   "cell_type": "code",
   "execution_count": null,
   "metadata": {
    "collapsed": true
   },
   "outputs": [],
   "source": []
  },
  {
   "cell_type": "markdown",
   "metadata": {},
   "source": [
    "If you have many columns, **pandas** will not shown all them.  To force **pandas** to display all the columns, you can proceed as follows,"
   ]
  },
  {
   "cell_type": "code",
   "execution_count": 17,
   "metadata": {
    "collapsed": false
   },
   "outputs": [
    {
     "data": {
      "text/html": [
       "<div>\n",
       "<table border=\"1\" class=\"dataframe\">\n",
       "  <thead>\n",
       "    <tr style=\"text-align: right;\">\n",
       "      <th></th>\n",
       "      <th>GRID_TYPE</th>\n",
       "      <th>GAME_ID</th>\n",
       "      <th>GAME_EVENT_ID</th>\n",
       "      <th>PLAYER_ID</th>\n",
       "      <th>PLAYER_NAME</th>\n",
       "      <th>TEAM_ID</th>\n",
       "      <th>TEAM_NAME</th>\n",
       "      <th>PERIOD</th>\n",
       "      <th>MINUTES_REMAINING</th>\n",
       "      <th>SECONDS_REMAINING</th>\n",
       "      <th>EVENT_TYPE</th>\n",
       "      <th>ACTION_TYPE</th>\n",
       "      <th>SHOT_TYPE</th>\n",
       "      <th>SHOT_ZONE_BASIC</th>\n",
       "      <th>SHOT_ZONE_AREA</th>\n",
       "      <th>SHOT_ZONE_RANGE</th>\n",
       "      <th>SHOT_DISTANCE</th>\n",
       "      <th>LOC_X</th>\n",
       "      <th>LOC_Y</th>\n",
       "      <th>SHOT_ATTEMPTED_FLAG</th>\n",
       "      <th>SHOT_MADE_FLAG</th>\n",
       "    </tr>\n",
       "  </thead>\n",
       "  <tbody>\n",
       "    <tr>\n",
       "      <th>0</th>\n",
       "      <td>Shot Chart Detail</td>\n",
       "      <td>0021400018</td>\n",
       "      <td>4</td>\n",
       "      <td>2544</td>\n",
       "      <td>LeBron James</td>\n",
       "      <td>1610612739</td>\n",
       "      <td>Cleveland Cavaliers</td>\n",
       "      <td>1</td>\n",
       "      <td>11</td>\n",
       "      <td>20</td>\n",
       "      <td>Missed Shot</td>\n",
       "      <td>Jump Shot</td>\n",
       "      <td>2PT Field Goal</td>\n",
       "      <td>Mid-Range</td>\n",
       "      <td>Right Side Center(RC)</td>\n",
       "      <td>16-24 ft.</td>\n",
       "      <td>18</td>\n",
       "      <td>114</td>\n",
       "      <td>148</td>\n",
       "      <td>1</td>\n",
       "      <td>0</td>\n",
       "    </tr>\n",
       "    <tr>\n",
       "      <th>1</th>\n",
       "      <td>Shot Chart Detail</td>\n",
       "      <td>0021400018</td>\n",
       "      <td>33</td>\n",
       "      <td>2544</td>\n",
       "      <td>LeBron James</td>\n",
       "      <td>1610612739</td>\n",
       "      <td>Cleveland Cavaliers</td>\n",
       "      <td>1</td>\n",
       "      <td>6</td>\n",
       "      <td>30</td>\n",
       "      <td>Made Shot</td>\n",
       "      <td>Layup Shot</td>\n",
       "      <td>2PT Field Goal</td>\n",
       "      <td>Restricted Area</td>\n",
       "      <td>Center(C)</td>\n",
       "      <td>Less Than 8 ft.</td>\n",
       "      <td>0</td>\n",
       "      <td>-7</td>\n",
       "      <td>0</td>\n",
       "      <td>1</td>\n",
       "      <td>1</td>\n",
       "    </tr>\n",
       "  </tbody>\n",
       "</table>\n",
       "</div>"
      ],
      "text/plain": [
       "           GRID_TYPE     GAME_ID  GAME_EVENT_ID  PLAYER_ID   PLAYER_NAME  \\\n",
       "0  Shot Chart Detail  0021400018              4       2544  LeBron James   \n",
       "1  Shot Chart Detail  0021400018             33       2544  LeBron James   \n",
       "\n",
       "      TEAM_ID            TEAM_NAME  PERIOD  MINUTES_REMAINING  \\\n",
       "0  1610612739  Cleveland Cavaliers       1                 11   \n",
       "1  1610612739  Cleveland Cavaliers       1                  6   \n",
       "\n",
       "   SECONDS_REMAINING   EVENT_TYPE ACTION_TYPE       SHOT_TYPE  \\\n",
       "0                 20  Missed Shot   Jump Shot  2PT Field Goal   \n",
       "1                 30    Made Shot  Layup Shot  2PT Field Goal   \n",
       "\n",
       "   SHOT_ZONE_BASIC         SHOT_ZONE_AREA  SHOT_ZONE_RANGE  SHOT_DISTANCE  \\\n",
       "0        Mid-Range  Right Side Center(RC)        16-24 ft.             18   \n",
       "1  Restricted Area              Center(C)  Less Than 8 ft.              0   \n",
       "\n",
       "   LOC_X  LOC_Y  SHOT_ATTEMPTED_FLAG  SHOT_MADE_FLAG  \n",
       "0    114    148                    1               0  \n",
       "1     -7      0                    1               1  "
      ]
     },
     "execution_count": 17,
     "metadata": {},
     "output_type": "execute_result"
    }
   ],
   "source": [
    "#This will force pandas to display any number of columns.\n",
    "#pd.set_option('display.max_columns', 6)\n",
    "pd.set_option('display.max_columns', None)\n",
    "shot_df.head(2)\n"
   ]
  },
  {
   "cell_type": "code",
   "execution_count": null,
   "metadata": {
    "collapsed": true
   },
   "outputs": [],
   "source": []
  },
  {
   "cell_type": "markdown",
   "metadata": {},
   "source": [
    "Alternatively, you can use the API for display objects in IPython."
   ]
  },
  {
   "cell_type": "code",
   "execution_count": 18,
   "metadata": {
    "collapsed": false
   },
   "outputs": [
    {
     "data": {
      "text/html": [
       "<div>\n",
       "<table border=\"1\" class=\"dataframe\">\n",
       "  <thead>\n",
       "    <tr style=\"text-align: right;\">\n",
       "      <th></th>\n",
       "      <th>GRID_TYPE</th>\n",
       "      <th>GAME_ID</th>\n",
       "      <th>GAME_EVENT_ID</th>\n",
       "      <th>PLAYER_ID</th>\n",
       "      <th>PLAYER_NAME</th>\n",
       "      <th>TEAM_ID</th>\n",
       "      <th>TEAM_NAME</th>\n",
       "      <th>PERIOD</th>\n",
       "      <th>MINUTES_REMAINING</th>\n",
       "      <th>SECONDS_REMAINING</th>\n",
       "      <th>EVENT_TYPE</th>\n",
       "      <th>ACTION_TYPE</th>\n",
       "      <th>SHOT_TYPE</th>\n",
       "      <th>SHOT_ZONE_BASIC</th>\n",
       "      <th>SHOT_ZONE_AREA</th>\n",
       "      <th>SHOT_ZONE_RANGE</th>\n",
       "      <th>SHOT_DISTANCE</th>\n",
       "      <th>LOC_X</th>\n",
       "      <th>LOC_Y</th>\n",
       "      <th>SHOT_ATTEMPTED_FLAG</th>\n",
       "      <th>SHOT_MADE_FLAG</th>\n",
       "    </tr>\n",
       "  </thead>\n",
       "  <tbody>\n",
       "    <tr>\n",
       "      <th>0</th>\n",
       "      <td>Shot Chart Detail</td>\n",
       "      <td>0021400018</td>\n",
       "      <td>4</td>\n",
       "      <td>2544</td>\n",
       "      <td>LeBron James</td>\n",
       "      <td>1610612739</td>\n",
       "      <td>Cleveland Cavaliers</td>\n",
       "      <td>1</td>\n",
       "      <td>11</td>\n",
       "      <td>20</td>\n",
       "      <td>Missed Shot</td>\n",
       "      <td>Jump Shot</td>\n",
       "      <td>2PT Field Goal</td>\n",
       "      <td>Mid-Range</td>\n",
       "      <td>Right Side Center(RC)</td>\n",
       "      <td>16-24 ft.</td>\n",
       "      <td>18</td>\n",
       "      <td>114</td>\n",
       "      <td>148</td>\n",
       "      <td>1</td>\n",
       "      <td>0</td>\n",
       "    </tr>\n",
       "    <tr>\n",
       "      <th>1</th>\n",
       "      <td>Shot Chart Detail</td>\n",
       "      <td>0021400018</td>\n",
       "      <td>33</td>\n",
       "      <td>2544</td>\n",
       "      <td>LeBron James</td>\n",
       "      <td>1610612739</td>\n",
       "      <td>Cleveland Cavaliers</td>\n",
       "      <td>1</td>\n",
       "      <td>6</td>\n",
       "      <td>30</td>\n",
       "      <td>Made Shot</td>\n",
       "      <td>Layup Shot</td>\n",
       "      <td>2PT Field Goal</td>\n",
       "      <td>Restricted Area</td>\n",
       "      <td>Center(C)</td>\n",
       "      <td>Less Than 8 ft.</td>\n",
       "      <td>0</td>\n",
       "      <td>-7</td>\n",
       "      <td>0</td>\n",
       "      <td>1</td>\n",
       "      <td>1</td>\n",
       "    </tr>\n",
       "  </tbody>\n",
       "</table>\n",
       "</div>"
      ],
      "text/plain": [
       "           GRID_TYPE     GAME_ID  GAME_EVENT_ID  PLAYER_ID   PLAYER_NAME  \\\n",
       "0  Shot Chart Detail  0021400018              4       2544  LeBron James   \n",
       "1  Shot Chart Detail  0021400018             33       2544  LeBron James   \n",
       "\n",
       "      TEAM_ID            TEAM_NAME  PERIOD  MINUTES_REMAINING  \\\n",
       "0  1610612739  Cleveland Cavaliers       1                 11   \n",
       "1  1610612739  Cleveland Cavaliers       1                  6   \n",
       "\n",
       "   SECONDS_REMAINING   EVENT_TYPE ACTION_TYPE       SHOT_TYPE  \\\n",
       "0                 20  Missed Shot   Jump Shot  2PT Field Goal   \n",
       "1                 30    Made Shot  Layup Shot  2PT Field Goal   \n",
       "\n",
       "   SHOT_ZONE_BASIC         SHOT_ZONE_AREA  SHOT_ZONE_RANGE  SHOT_DISTANCE  \\\n",
       "0        Mid-Range  Right Side Center(RC)        16-24 ft.             18   \n",
       "1  Restricted Area              Center(C)  Less Than 8 ft.              0   \n",
       "\n",
       "   LOC_X  LOC_Y  SHOT_ATTEMPTED_FLAG  SHOT_MADE_FLAG  \n",
       "0    114    148                    1               0  \n",
       "1     -7      0                    1               1  "
      ]
     },
     "metadata": {},
     "output_type": "display_data"
    }
   ],
   "source": [
    "# View the head of the DataFrame and all its columns\n",
    "from IPython.display import display\n",
    "with pd.option_context('display.max_columns', None): display(shot_df.head(2))\n",
    "    "
   ]
  },
  {
   "cell_type": "code",
   "execution_count": null,
   "metadata": {
    "collapsed": true
   },
   "outputs": [],
   "source": []
  },
  {
   "cell_type": "markdown",
   "metadata": {},
   "source": [
    "If you want to save the **pandas** `DataFrame` in a csv file, you can proceed as follows"
   ]
  },
  {
   "cell_type": "code",
   "execution_count": 19,
   "metadata": {
    "collapsed": false
   },
   "outputs": [],
   "source": [
    "shot_df.to_csv(path_or_buf='test.csv',mode='w')\n"
   ]
  },
  {
   "cell_type": "code",
   "execution_count": null,
   "metadata": {
    "collapsed": true
   },
   "outputs": [],
   "source": []
  },
  {
   "cell_type": "markdown",
   "metadata": {},
   "source": [
    "If you want to time the execution of a Python statement or expression, you can use the `%time` magic,"
   ]
  },
  {
   "cell_type": "code",
   "execution_count": 20,
   "metadata": {
    "collapsed": false
   },
   "outputs": [
    {
     "name": "stdout",
     "output_type": "stream",
     "text": [
      "CPU times: user 18.4 ms, sys: 3.11 ms, total: 21.5 ms\n",
      "Wall time: 425 ms\n"
     ]
    }
   ],
   "source": [
    "%time shot_df.to_csv(path_or_buf='test.csv',mode='w')\n"
   ]
  },
  {
   "cell_type": "code",
   "execution_count": null,
   "metadata": {
    "collapsed": true
   },
   "outputs": [],
   "source": []
  },
  {
   "cell_type": "markdown",
   "metadata": {},
   "source": [
    "If you want to add reusability to your code, you can create functions.  Let us create a function to save the json data in csv format."
   ]
  },
  {
   "cell_type": "code",
   "execution_count": 21,
   "metadata": {
    "collapsed": false
   },
   "outputs": [],
   "source": [
    "def savecsv(name_of_file):\n",
    "    shot_df.to_csv(path_or_buf=name_of_file,mode='w')\n",
    "    "
   ]
  },
  {
   "cell_type": "markdown",
   "metadata": {},
   "source": [
    "We can now access the function,"
   ]
  },
  {
   "cell_type": "code",
   "execution_count": 22,
   "metadata": {
    "collapsed": false
   },
   "outputs": [],
   "source": [
    "name_of_file='test1.csv'\n",
    "savecsv(name_of_file)\n"
   ]
  },
  {
   "cell_type": "code",
   "execution_count": null,
   "metadata": {
    "collapsed": true
   },
   "outputs": [],
   "source": []
  },
  {
   "cell_type": "markdown",
   "metadata": {},
   "source": [
    "If you want to save the server data from the url `shot_chart_url` in a json file, we need to use the module **json** [6]."
   ]
  },
  {
   "cell_type": "code",
   "execution_count": 23,
   "metadata": {
    "collapsed": false
   },
   "outputs": [],
   "source": [
    "import json\n",
    "\n",
    "with open('data_json.json', 'w') as outfile:\n",
    "    json.dump(response.json(), outfile)\n",
    "\n",
    "#json.dump(response.json(), open('data1_json.json', 'w'))   \n"
   ]
  },
  {
   "cell_type": "code",
   "execution_count": 24,
   "metadata": {
    "collapsed": true
   },
   "outputs": [],
   "source": [
    "#This method is not working\n",
    "#obj = open('data1_json.json', 'wb')\n",
    "#obj.write(str(response.json()))\n",
    "#obj.close\n"
   ]
  },
  {
   "cell_type": "code",
   "execution_count": null,
   "metadata": {
    "collapsed": true
   },
   "outputs": [],
   "source": []
  },
  {
   "cell_type": "markdown",
   "metadata": {},
   "source": [
    "By the way, do not erase the csv and json files, as we are going to use them later."
   ]
  },
  {
   "cell_type": "code",
   "execution_count": null,
   "metadata": {
    "collapsed": true
   },
   "outputs": [],
   "source": []
  },
  {
   "cell_type": "markdown",
   "metadata": {},
   "source": [
    "Finally, in the blog post [7], you will find a very nice tutorial of how to create NBA shot charts.  Hereafter, we are going to address and elaborate on most of the things explained in the mentioned blog post."
   ]
  },
  {
   "cell_type": "code",
   "execution_count": null,
   "metadata": {
    "collapsed": true
   },
   "outputs": [],
   "source": []
  },
  {
   "cell_type": "markdown",
   "metadata": {},
   "source": [
    "### In the next tutorial, we are going to do some data wrangling, data analytics and exploratory data analysis, using the `DataFrame` that we just created by scraping data from a web site."
   ]
  },
  {
   "cell_type": "code",
   "execution_count": null,
   "metadata": {
    "collapsed": true
   },
   "outputs": [],
   "source": []
  },
  {
   "cell_type": "markdown",
   "metadata": {},
   "source": [
    "# References\n",
    "\n",
    "[1] http://www.gregreda.com/2015/02/15/web-scraping-finding-the-api/\n",
    "\n",
    "[2] http://stats.nba.com\n",
    "\n",
    "[3] http://jsonview.com\n",
    "\n",
    "[4] http://docs.python-requests.org/en/latest/#\n",
    "\n",
    "[5] http://pandas.pydata.org/\n",
    "\n",
    "[6] https://docs.python.org/2/library/json.html\n",
    "\n",
    "[7] http://savvastjortjoglou.com/nba-shot-sharts.html?utm_source=Python+Weekly+Newsletter&utm_campaign=5185ff0538-Python_Weekly_Issue_202_July_30_2015&utm_medium=email&utm_term=0_9e26887fc5-5185ff0538-312727397"
   ]
  },
  {
   "cell_type": "code",
   "execution_count": null,
   "metadata": {
    "collapsed": true
   },
   "outputs": [],
   "source": []
  },
  {
   "cell_type": "code",
   "execution_count": null,
   "metadata": {
    "collapsed": true
   },
   "outputs": [],
   "source": []
  },
  {
   "cell_type": "code",
   "execution_count": null,
   "metadata": {
    "collapsed": true
   },
   "outputs": [],
   "source": []
  },
  {
   "cell_type": "code",
   "execution_count": 25,
   "metadata": {
    "collapsed": false
   },
   "outputs": [],
   "source": [
    "#import sys\n",
    "#print('Python version:', sys.version_info)\n",
    "\n",
    "#import IPython\n",
    "#print('IPython version:', IPython.__version__)\n",
    "\n",
    "#print('Requests version', requests.__version__)\n",
    "#print('Pandas version:', pd.__version__)\n",
    "#print('json version:', json.__version__)"
   ]
  },
  {
   "cell_type": "code",
   "execution_count": null,
   "metadata": {
    "collapsed": true
   },
   "outputs": [],
   "source": []
  }
 ],
 "metadata": {
  "kernelspec": {
   "display_name": "Python 2",
   "language": "python",
   "name": "python2"
  },
  "language_info": {
   "codemirror_mode": {
    "name": "ipython",
    "version": 2
   },
   "file_extension": ".py",
   "mimetype": "text/x-python",
   "name": "python",
   "nbconvert_exporter": "python",
   "pygments_lexer": "ipython2",
   "version": "2.7.10"
  }
 },
 "nbformat": 4,
 "nbformat_minor": 0
}
