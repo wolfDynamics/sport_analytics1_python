{
 "cells": [
  {
   "cell_type": "markdown",
   "metadata": {},
   "source": [
    "# Data scraping, data wrangling, data analytics, exploratory data analysis, advaced plotting and clustering with love."
   ]
  },
  {
   "cell_type": "markdown",
   "metadata": {},
   "source": [
    "In this tutorial, we are going to read the csv file and the json file we saved in the previous tutorial.\n",
    "\n",
    "Then we are going to use **pandas** [1] to do data wrangling and manipulation of the `DataFrame`.  \n",
    "\n",
    "Finally, we are going to do some basic data analytics and basic plotting using **matplotlib** [2]."
   ]
  },
  {
   "cell_type": "code",
   "execution_count": null,
   "metadata": {
    "collapsed": true
   },
   "outputs": [],
   "source": []
  },
  {
   "cell_type": "code",
   "execution_count": 2,
   "metadata": {
    "collapsed": true
   },
   "outputs": [],
   "source": [
    "%matplotlib inline"
   ]
  },
  {
   "cell_type": "code",
   "execution_count": null,
   "metadata": {
    "collapsed": true
   },
   "outputs": [],
   "source": []
  },
  {
   "cell_type": "code",
   "execution_count": 3,
   "metadata": {
    "collapsed": true
   },
   "outputs": [],
   "source": [
    "import pandas as pd\n",
    "import json\n",
    "import matplotlib.pyplot as plt\n",
    "import seaborn as sns"
   ]
  },
  {
   "cell_type": "code",
   "execution_count": null,
   "metadata": {
    "collapsed": true
   },
   "outputs": [],
   "source": []
  },
  {
   "cell_type": "markdown",
   "metadata": {},
   "source": [
    "To load the csv file, we proceed as follows,"
   ]
  },
  {
   "cell_type": "code",
   "execution_count": 4,
   "metadata": {
    "collapsed": false
   },
   "outputs": [],
   "source": [
    "#shot_df.to_csv(path_or_buf='test.csv',mode='w')\n",
    "shot_df = pd.read_csv(filepath_or_buffer='test.csv')\n",
    "#shot_df = pd.read_csv('test.csv')\n"
   ]
  },
  {
   "cell_type": "code",
   "execution_count": null,
   "metadata": {
    "collapsed": true
   },
   "outputs": [],
   "source": []
  },
  {
   "cell_type": "markdown",
   "metadata": {},
   "source": [
    "To print the first 4 rows in the `DataFrame` and display all the columns, you can proceed as follows,"
   ]
  },
  {
   "cell_type": "code",
   "execution_count": 5,
   "metadata": {
    "collapsed": false
   },
   "outputs": [
    {
     "data": {
      "text/html": [
       "<div>\n",
       "<table border=\"1\" class=\"dataframe\">\n",
       "  <thead>\n",
       "    <tr style=\"text-align: right;\">\n",
       "      <th></th>\n",
       "      <th>Unnamed: 0</th>\n",
       "      <th>GRID_TYPE</th>\n",
       "      <th>GAME_ID</th>\n",
       "      <th>GAME_EVENT_ID</th>\n",
       "      <th>PLAYER_ID</th>\n",
       "      <th>PLAYER_NAME</th>\n",
       "      <th>TEAM_ID</th>\n",
       "      <th>TEAM_NAME</th>\n",
       "      <th>PERIOD</th>\n",
       "      <th>MINUTES_REMAINING</th>\n",
       "      <th>...</th>\n",
       "      <th>ACTION_TYPE</th>\n",
       "      <th>SHOT_TYPE</th>\n",
       "      <th>SHOT_ZONE_BASIC</th>\n",
       "      <th>SHOT_ZONE_AREA</th>\n",
       "      <th>SHOT_ZONE_RANGE</th>\n",
       "      <th>SHOT_DISTANCE</th>\n",
       "      <th>LOC_X</th>\n",
       "      <th>LOC_Y</th>\n",
       "      <th>SHOT_ATTEMPTED_FLAG</th>\n",
       "      <th>SHOT_MADE_FLAG</th>\n",
       "    </tr>\n",
       "  </thead>\n",
       "  <tbody>\n",
       "    <tr>\n",
       "      <th>0</th>\n",
       "      <td>0</td>\n",
       "      <td>Shot Chart Detail</td>\n",
       "      <td>21400018</td>\n",
       "      <td>4</td>\n",
       "      <td>2544</td>\n",
       "      <td>LeBron James</td>\n",
       "      <td>1610612739</td>\n",
       "      <td>Cleveland Cavaliers</td>\n",
       "      <td>1</td>\n",
       "      <td>11</td>\n",
       "      <td>...</td>\n",
       "      <td>Jump Shot</td>\n",
       "      <td>2PT Field Goal</td>\n",
       "      <td>Mid-Range</td>\n",
       "      <td>Right Side Center(RC)</td>\n",
       "      <td>16-24 ft.</td>\n",
       "      <td>18</td>\n",
       "      <td>114</td>\n",
       "      <td>148</td>\n",
       "      <td>1</td>\n",
       "      <td>0</td>\n",
       "    </tr>\n",
       "    <tr>\n",
       "      <th>1</th>\n",
       "      <td>1</td>\n",
       "      <td>Shot Chart Detail</td>\n",
       "      <td>21400018</td>\n",
       "      <td>33</td>\n",
       "      <td>2544</td>\n",
       "      <td>LeBron James</td>\n",
       "      <td>1610612739</td>\n",
       "      <td>Cleveland Cavaliers</td>\n",
       "      <td>1</td>\n",
       "      <td>6</td>\n",
       "      <td>...</td>\n",
       "      <td>Layup Shot</td>\n",
       "      <td>2PT Field Goal</td>\n",
       "      <td>Restricted Area</td>\n",
       "      <td>Center(C)</td>\n",
       "      <td>Less Than 8 ft.</td>\n",
       "      <td>0</td>\n",
       "      <td>-7</td>\n",
       "      <td>0</td>\n",
       "      <td>1</td>\n",
       "      <td>1</td>\n",
       "    </tr>\n",
       "    <tr>\n",
       "      <th>2</th>\n",
       "      <td>2</td>\n",
       "      <td>Shot Chart Detail</td>\n",
       "      <td>21400018</td>\n",
       "      <td>53</td>\n",
       "      <td>2544</td>\n",
       "      <td>LeBron James</td>\n",
       "      <td>1610612739</td>\n",
       "      <td>Cleveland Cavaliers</td>\n",
       "      <td>1</td>\n",
       "      <td>4</td>\n",
       "      <td>...</td>\n",
       "      <td>Fadeaway Jump Shot</td>\n",
       "      <td>2PT Field Goal</td>\n",
       "      <td>Mid-Range</td>\n",
       "      <td>Left Side(L)</td>\n",
       "      <td>8-16 ft.</td>\n",
       "      <td>12</td>\n",
       "      <td>-105</td>\n",
       "      <td>63</td>\n",
       "      <td>1</td>\n",
       "      <td>0</td>\n",
       "    </tr>\n",
       "    <tr>\n",
       "      <th>3</th>\n",
       "      <td>3</td>\n",
       "      <td>Shot Chart Detail</td>\n",
       "      <td>21400018</td>\n",
       "      <td>77</td>\n",
       "      <td>2544</td>\n",
       "      <td>LeBron James</td>\n",
       "      <td>1610612739</td>\n",
       "      <td>Cleveland Cavaliers</td>\n",
       "      <td>1</td>\n",
       "      <td>2</td>\n",
       "      <td>...</td>\n",
       "      <td>Jump Shot</td>\n",
       "      <td>3PT Field Goal</td>\n",
       "      <td>Right Corner 3</td>\n",
       "      <td>Right Side(R)</td>\n",
       "      <td>24+ ft.</td>\n",
       "      <td>22</td>\n",
       "      <td>227</td>\n",
       "      <td>-16</td>\n",
       "      <td>1</td>\n",
       "      <td>0</td>\n",
       "    </tr>\n",
       "  </tbody>\n",
       "</table>\n",
       "<p>4 rows × 22 columns</p>\n",
       "</div>"
      ],
      "text/plain": [
       "   Unnamed: 0          GRID_TYPE   GAME_ID  GAME_EVENT_ID  PLAYER_ID  \\\n",
       "0           0  Shot Chart Detail  21400018              4       2544   \n",
       "1           1  Shot Chart Detail  21400018             33       2544   \n",
       "2           2  Shot Chart Detail  21400018             53       2544   \n",
       "3           3  Shot Chart Detail  21400018             77       2544   \n",
       "\n",
       "    PLAYER_NAME     TEAM_ID            TEAM_NAME  PERIOD  MINUTES_REMAINING  \\\n",
       "0  LeBron James  1610612739  Cleveland Cavaliers       1                 11   \n",
       "1  LeBron James  1610612739  Cleveland Cavaliers       1                  6   \n",
       "2  LeBron James  1610612739  Cleveland Cavaliers       1                  4   \n",
       "3  LeBron James  1610612739  Cleveland Cavaliers       1                  2   \n",
       "\n",
       "        ...               ACTION_TYPE       SHOT_TYPE  SHOT_ZONE_BASIC  \\\n",
       "0       ...                 Jump Shot  2PT Field Goal        Mid-Range   \n",
       "1       ...                Layup Shot  2PT Field Goal  Restricted Area   \n",
       "2       ...        Fadeaway Jump Shot  2PT Field Goal        Mid-Range   \n",
       "3       ...                 Jump Shot  3PT Field Goal   Right Corner 3   \n",
       "\n",
       "          SHOT_ZONE_AREA  SHOT_ZONE_RANGE SHOT_DISTANCE LOC_X  LOC_Y  \\\n",
       "0  Right Side Center(RC)        16-24 ft.            18   114    148   \n",
       "1              Center(C)  Less Than 8 ft.             0    -7      0   \n",
       "2           Left Side(L)         8-16 ft.            12  -105     63   \n",
       "3          Right Side(R)          24+ ft.            22   227    -16   \n",
       "\n",
       "   SHOT_ATTEMPTED_FLAG  SHOT_MADE_FLAG  \n",
       "0                    1               0  \n",
       "1                    1               1  \n",
       "2                    1               0  \n",
       "3                    1               0  \n",
       "\n",
       "[4 rows x 22 columns]"
      ]
     },
     "execution_count": 5,
     "metadata": {},
     "output_type": "execute_result"
    }
   ],
   "source": [
    "shot_df.head(4)\n"
   ]
  },
  {
   "cell_type": "markdown",
   "metadata": {
    "collapsed": true
   },
   "source": [
    "Have in mind that this is a larger `DataFrame`, if you do not use **.head(4)** it will print all the rows in the `DataFrame`."
   ]
  },
  {
   "cell_type": "code",
   "execution_count": null,
   "metadata": {
    "collapsed": true
   },
   "outputs": [],
   "source": []
  },
  {
   "cell_type": "markdown",
   "metadata": {
    "collapsed": true
   },
   "source": [
    "To force **pandas** to display all the columns, you can proceed as follows (we only display the first 4 rows),"
   ]
  },
  {
   "cell_type": "code",
   "execution_count": 6,
   "metadata": {
    "collapsed": false
   },
   "outputs": [
    {
     "data": {
      "text/html": [
       "<div>\n",
       "<table border=\"1\" class=\"dataframe\">\n",
       "  <thead>\n",
       "    <tr style=\"text-align: right;\">\n",
       "      <th></th>\n",
       "      <th>Unnamed: 0</th>\n",
       "      <th>GRID_TYPE</th>\n",
       "      <th>GAME_ID</th>\n",
       "      <th>GAME_EVENT_ID</th>\n",
       "      <th>PLAYER_ID</th>\n",
       "      <th>PLAYER_NAME</th>\n",
       "      <th>TEAM_ID</th>\n",
       "      <th>TEAM_NAME</th>\n",
       "      <th>PERIOD</th>\n",
       "      <th>MINUTES_REMAINING</th>\n",
       "      <th>SECONDS_REMAINING</th>\n",
       "      <th>EVENT_TYPE</th>\n",
       "      <th>ACTION_TYPE</th>\n",
       "      <th>SHOT_TYPE</th>\n",
       "      <th>SHOT_ZONE_BASIC</th>\n",
       "      <th>SHOT_ZONE_AREA</th>\n",
       "      <th>SHOT_ZONE_RANGE</th>\n",
       "      <th>SHOT_DISTANCE</th>\n",
       "      <th>LOC_X</th>\n",
       "      <th>LOC_Y</th>\n",
       "      <th>SHOT_ATTEMPTED_FLAG</th>\n",
       "      <th>SHOT_MADE_FLAG</th>\n",
       "    </tr>\n",
       "  </thead>\n",
       "  <tbody>\n",
       "    <tr>\n",
       "      <th>0</th>\n",
       "      <td>0</td>\n",
       "      <td>Shot Chart Detail</td>\n",
       "      <td>21400018</td>\n",
       "      <td>4</td>\n",
       "      <td>2544</td>\n",
       "      <td>LeBron James</td>\n",
       "      <td>1610612739</td>\n",
       "      <td>Cleveland Cavaliers</td>\n",
       "      <td>1</td>\n",
       "      <td>11</td>\n",
       "      <td>20</td>\n",
       "      <td>Missed Shot</td>\n",
       "      <td>Jump Shot</td>\n",
       "      <td>2PT Field Goal</td>\n",
       "      <td>Mid-Range</td>\n",
       "      <td>Right Side Center(RC)</td>\n",
       "      <td>16-24 ft.</td>\n",
       "      <td>18</td>\n",
       "      <td>114</td>\n",
       "      <td>148</td>\n",
       "      <td>1</td>\n",
       "      <td>0</td>\n",
       "    </tr>\n",
       "    <tr>\n",
       "      <th>1</th>\n",
       "      <td>1</td>\n",
       "      <td>Shot Chart Detail</td>\n",
       "      <td>21400018</td>\n",
       "      <td>33</td>\n",
       "      <td>2544</td>\n",
       "      <td>LeBron James</td>\n",
       "      <td>1610612739</td>\n",
       "      <td>Cleveland Cavaliers</td>\n",
       "      <td>1</td>\n",
       "      <td>6</td>\n",
       "      <td>30</td>\n",
       "      <td>Made Shot</td>\n",
       "      <td>Layup Shot</td>\n",
       "      <td>2PT Field Goal</td>\n",
       "      <td>Restricted Area</td>\n",
       "      <td>Center(C)</td>\n",
       "      <td>Less Than 8 ft.</td>\n",
       "      <td>0</td>\n",
       "      <td>-7</td>\n",
       "      <td>0</td>\n",
       "      <td>1</td>\n",
       "      <td>1</td>\n",
       "    </tr>\n",
       "    <tr>\n",
       "      <th>2</th>\n",
       "      <td>2</td>\n",
       "      <td>Shot Chart Detail</td>\n",
       "      <td>21400018</td>\n",
       "      <td>53</td>\n",
       "      <td>2544</td>\n",
       "      <td>LeBron James</td>\n",
       "      <td>1610612739</td>\n",
       "      <td>Cleveland Cavaliers</td>\n",
       "      <td>1</td>\n",
       "      <td>4</td>\n",
       "      <td>45</td>\n",
       "      <td>Missed Shot</td>\n",
       "      <td>Fadeaway Jump Shot</td>\n",
       "      <td>2PT Field Goal</td>\n",
       "      <td>Mid-Range</td>\n",
       "      <td>Left Side(L)</td>\n",
       "      <td>8-16 ft.</td>\n",
       "      <td>12</td>\n",
       "      <td>-105</td>\n",
       "      <td>63</td>\n",
       "      <td>1</td>\n",
       "      <td>0</td>\n",
       "    </tr>\n",
       "    <tr>\n",
       "      <th>3</th>\n",
       "      <td>3</td>\n",
       "      <td>Shot Chart Detail</td>\n",
       "      <td>21400018</td>\n",
       "      <td>77</td>\n",
       "      <td>2544</td>\n",
       "      <td>LeBron James</td>\n",
       "      <td>1610612739</td>\n",
       "      <td>Cleveland Cavaliers</td>\n",
       "      <td>1</td>\n",
       "      <td>2</td>\n",
       "      <td>31</td>\n",
       "      <td>Missed Shot</td>\n",
       "      <td>Jump Shot</td>\n",
       "      <td>3PT Field Goal</td>\n",
       "      <td>Right Corner 3</td>\n",
       "      <td>Right Side(R)</td>\n",
       "      <td>24+ ft.</td>\n",
       "      <td>22</td>\n",
       "      <td>227</td>\n",
       "      <td>-16</td>\n",
       "      <td>1</td>\n",
       "      <td>0</td>\n",
       "    </tr>\n",
       "  </tbody>\n",
       "</table>\n",
       "</div>"
      ],
      "text/plain": [
       "   Unnamed: 0          GRID_TYPE   GAME_ID  GAME_EVENT_ID  PLAYER_ID  \\\n",
       "0           0  Shot Chart Detail  21400018              4       2544   \n",
       "1           1  Shot Chart Detail  21400018             33       2544   \n",
       "2           2  Shot Chart Detail  21400018             53       2544   \n",
       "3           3  Shot Chart Detail  21400018             77       2544   \n",
       "\n",
       "    PLAYER_NAME     TEAM_ID            TEAM_NAME  PERIOD  MINUTES_REMAINING  \\\n",
       "0  LeBron James  1610612739  Cleveland Cavaliers       1                 11   \n",
       "1  LeBron James  1610612739  Cleveland Cavaliers       1                  6   \n",
       "2  LeBron James  1610612739  Cleveland Cavaliers       1                  4   \n",
       "3  LeBron James  1610612739  Cleveland Cavaliers       1                  2   \n",
       "\n",
       "   SECONDS_REMAINING   EVENT_TYPE         ACTION_TYPE       SHOT_TYPE  \\\n",
       "0                 20  Missed Shot           Jump Shot  2PT Field Goal   \n",
       "1                 30    Made Shot          Layup Shot  2PT Field Goal   \n",
       "2                 45  Missed Shot  Fadeaway Jump Shot  2PT Field Goal   \n",
       "3                 31  Missed Shot           Jump Shot  3PT Field Goal   \n",
       "\n",
       "   SHOT_ZONE_BASIC         SHOT_ZONE_AREA  SHOT_ZONE_RANGE  SHOT_DISTANCE  \\\n",
       "0        Mid-Range  Right Side Center(RC)        16-24 ft.             18   \n",
       "1  Restricted Area              Center(C)  Less Than 8 ft.              0   \n",
       "2        Mid-Range           Left Side(L)         8-16 ft.             12   \n",
       "3   Right Corner 3          Right Side(R)          24+ ft.             22   \n",
       "\n",
       "   LOC_X  LOC_Y  SHOT_ATTEMPTED_FLAG  SHOT_MADE_FLAG  \n",
       "0    114    148                    1               0  \n",
       "1     -7      0                    1               1  \n",
       "2   -105     63                    1               0  \n",
       "3    227    -16                    1               0  "
      ]
     },
     "execution_count": 6,
     "metadata": {},
     "output_type": "execute_result"
    }
   ],
   "source": [
    "pd.set_option('display.max_columns', None)\n",
    "shot_df.head(4)\n",
    "#shot_df"
   ]
  },
  {
   "cell_type": "code",
   "execution_count": null,
   "metadata": {
    "collapsed": true
   },
   "outputs": [],
   "source": []
  },
  {
   "cell_type": "markdown",
   "metadata": {},
   "source": [
    "To erase a column in a `DataFrame` we can proceed as follows. \n",
    "\n",
    "Notice that we want to erase the column with the name `Unnamed: 0`, hence the notation **('Unnamed: 0', 1)**."
   ]
  },
  {
   "cell_type": "code",
   "execution_count": 7,
   "metadata": {
    "collapsed": false
   },
   "outputs": [],
   "source": [
    "shot_df1 = shot_df.drop('Unnamed: 0', 1)\n"
   ]
  },
  {
   "cell_type": "code",
   "execution_count": null,
   "metadata": {
    "collapsed": true
   },
   "outputs": [],
   "source": []
  },
  {
   "cell_type": "markdown",
   "metadata": {},
   "source": [
    "To display the information in `shot_df1` (we only display the first 2 rows),"
   ]
  },
  {
   "cell_type": "code",
   "execution_count": 8,
   "metadata": {
    "collapsed": false
   },
   "outputs": [
    {
     "data": {
      "text/html": [
       "<div>\n",
       "<table border=\"1\" class=\"dataframe\">\n",
       "  <thead>\n",
       "    <tr style=\"text-align: right;\">\n",
       "      <th></th>\n",
       "      <th>GRID_TYPE</th>\n",
       "      <th>GAME_ID</th>\n",
       "      <th>GAME_EVENT_ID</th>\n",
       "      <th>PLAYER_ID</th>\n",
       "      <th>PLAYER_NAME</th>\n",
       "      <th>TEAM_ID</th>\n",
       "      <th>TEAM_NAME</th>\n",
       "      <th>PERIOD</th>\n",
       "      <th>MINUTES_REMAINING</th>\n",
       "      <th>SECONDS_REMAINING</th>\n",
       "      <th>EVENT_TYPE</th>\n",
       "      <th>ACTION_TYPE</th>\n",
       "      <th>SHOT_TYPE</th>\n",
       "      <th>SHOT_ZONE_BASIC</th>\n",
       "      <th>SHOT_ZONE_AREA</th>\n",
       "      <th>SHOT_ZONE_RANGE</th>\n",
       "      <th>SHOT_DISTANCE</th>\n",
       "      <th>LOC_X</th>\n",
       "      <th>LOC_Y</th>\n",
       "      <th>SHOT_ATTEMPTED_FLAG</th>\n",
       "      <th>SHOT_MADE_FLAG</th>\n",
       "    </tr>\n",
       "  </thead>\n",
       "  <tbody>\n",
       "    <tr>\n",
       "      <th>0</th>\n",
       "      <td>Shot Chart Detail</td>\n",
       "      <td>21400018</td>\n",
       "      <td>4</td>\n",
       "      <td>2544</td>\n",
       "      <td>LeBron James</td>\n",
       "      <td>1610612739</td>\n",
       "      <td>Cleveland Cavaliers</td>\n",
       "      <td>1</td>\n",
       "      <td>11</td>\n",
       "      <td>20</td>\n",
       "      <td>Missed Shot</td>\n",
       "      <td>Jump Shot</td>\n",
       "      <td>2PT Field Goal</td>\n",
       "      <td>Mid-Range</td>\n",
       "      <td>Right Side Center(RC)</td>\n",
       "      <td>16-24 ft.</td>\n",
       "      <td>18</td>\n",
       "      <td>114</td>\n",
       "      <td>148</td>\n",
       "      <td>1</td>\n",
       "      <td>0</td>\n",
       "    </tr>\n",
       "    <tr>\n",
       "      <th>1</th>\n",
       "      <td>Shot Chart Detail</td>\n",
       "      <td>21400018</td>\n",
       "      <td>33</td>\n",
       "      <td>2544</td>\n",
       "      <td>LeBron James</td>\n",
       "      <td>1610612739</td>\n",
       "      <td>Cleveland Cavaliers</td>\n",
       "      <td>1</td>\n",
       "      <td>6</td>\n",
       "      <td>30</td>\n",
       "      <td>Made Shot</td>\n",
       "      <td>Layup Shot</td>\n",
       "      <td>2PT Field Goal</td>\n",
       "      <td>Restricted Area</td>\n",
       "      <td>Center(C)</td>\n",
       "      <td>Less Than 8 ft.</td>\n",
       "      <td>0</td>\n",
       "      <td>-7</td>\n",
       "      <td>0</td>\n",
       "      <td>1</td>\n",
       "      <td>1</td>\n",
       "    </tr>\n",
       "  </tbody>\n",
       "</table>\n",
       "</div>"
      ],
      "text/plain": [
       "           GRID_TYPE   GAME_ID  GAME_EVENT_ID  PLAYER_ID   PLAYER_NAME  \\\n",
       "0  Shot Chart Detail  21400018              4       2544  LeBron James   \n",
       "1  Shot Chart Detail  21400018             33       2544  LeBron James   \n",
       "\n",
       "      TEAM_ID            TEAM_NAME  PERIOD  MINUTES_REMAINING  \\\n",
       "0  1610612739  Cleveland Cavaliers       1                 11   \n",
       "1  1610612739  Cleveland Cavaliers       1                  6   \n",
       "\n",
       "   SECONDS_REMAINING   EVENT_TYPE ACTION_TYPE       SHOT_TYPE  \\\n",
       "0                 20  Missed Shot   Jump Shot  2PT Field Goal   \n",
       "1                 30    Made Shot  Layup Shot  2PT Field Goal   \n",
       "\n",
       "   SHOT_ZONE_BASIC         SHOT_ZONE_AREA  SHOT_ZONE_RANGE  SHOT_DISTANCE  \\\n",
       "0        Mid-Range  Right Side Center(RC)        16-24 ft.             18   \n",
       "1  Restricted Area              Center(C)  Less Than 8 ft.              0   \n",
       "\n",
       "   LOC_X  LOC_Y  SHOT_ATTEMPTED_FLAG  SHOT_MADE_FLAG  \n",
       "0    114    148                    1               0  \n",
       "1     -7      0                    1               1  "
      ]
     },
     "execution_count": 8,
     "metadata": {},
     "output_type": "execute_result"
    }
   ],
   "source": [
    "shot_df1.head(2)\n"
   ]
  },
  {
   "cell_type": "markdown",
   "metadata": {
    "collapsed": true
   },
   "source": [
    "As you can see, we erased the column **('Unnamed: 0', 1)**."
   ]
  },
  {
   "cell_type": "code",
   "execution_count": null,
   "metadata": {
    "collapsed": true
   },
   "outputs": [],
   "source": []
  },
  {
   "cell_type": "markdown",
   "metadata": {},
   "source": [
    "Alternatively we can use the column 0 as the row labels of the DataFrame."
   ]
  },
  {
   "cell_type": "code",
   "execution_count": 9,
   "metadata": {
    "collapsed": false
   },
   "outputs": [],
   "source": [
    "shot_df2 = pd.read_csv(filepath_or_buffer='test.csv',index_col=0)\n"
   ]
  },
  {
   "cell_type": "code",
   "execution_count": null,
   "metadata": {
    "collapsed": true
   },
   "outputs": [],
   "source": []
  },
  {
   "cell_type": "markdown",
   "metadata": {},
   "source": [
    "To display the information in `shot_df2` (we only display the first 2 rows),"
   ]
  },
  {
   "cell_type": "code",
   "execution_count": 10,
   "metadata": {
    "collapsed": false
   },
   "outputs": [
    {
     "data": {
      "text/html": [
       "<div>\n",
       "<table border=\"1\" class=\"dataframe\">\n",
       "  <thead>\n",
       "    <tr style=\"text-align: right;\">\n",
       "      <th></th>\n",
       "      <th>GRID_TYPE</th>\n",
       "      <th>GAME_ID</th>\n",
       "      <th>GAME_EVENT_ID</th>\n",
       "      <th>PLAYER_ID</th>\n",
       "      <th>PLAYER_NAME</th>\n",
       "      <th>TEAM_ID</th>\n",
       "      <th>TEAM_NAME</th>\n",
       "      <th>PERIOD</th>\n",
       "      <th>MINUTES_REMAINING</th>\n",
       "      <th>SECONDS_REMAINING</th>\n",
       "      <th>EVENT_TYPE</th>\n",
       "      <th>ACTION_TYPE</th>\n",
       "      <th>SHOT_TYPE</th>\n",
       "      <th>SHOT_ZONE_BASIC</th>\n",
       "      <th>SHOT_ZONE_AREA</th>\n",
       "      <th>SHOT_ZONE_RANGE</th>\n",
       "      <th>SHOT_DISTANCE</th>\n",
       "      <th>LOC_X</th>\n",
       "      <th>LOC_Y</th>\n",
       "      <th>SHOT_ATTEMPTED_FLAG</th>\n",
       "      <th>SHOT_MADE_FLAG</th>\n",
       "    </tr>\n",
       "  </thead>\n",
       "  <tbody>\n",
       "    <tr>\n",
       "      <th>0</th>\n",
       "      <td>Shot Chart Detail</td>\n",
       "      <td>21400018</td>\n",
       "      <td>4</td>\n",
       "      <td>2544</td>\n",
       "      <td>LeBron James</td>\n",
       "      <td>1610612739</td>\n",
       "      <td>Cleveland Cavaliers</td>\n",
       "      <td>1</td>\n",
       "      <td>11</td>\n",
       "      <td>20</td>\n",
       "      <td>Missed Shot</td>\n",
       "      <td>Jump Shot</td>\n",
       "      <td>2PT Field Goal</td>\n",
       "      <td>Mid-Range</td>\n",
       "      <td>Right Side Center(RC)</td>\n",
       "      <td>16-24 ft.</td>\n",
       "      <td>18</td>\n",
       "      <td>114</td>\n",
       "      <td>148</td>\n",
       "      <td>1</td>\n",
       "      <td>0</td>\n",
       "    </tr>\n",
       "    <tr>\n",
       "      <th>1</th>\n",
       "      <td>Shot Chart Detail</td>\n",
       "      <td>21400018</td>\n",
       "      <td>33</td>\n",
       "      <td>2544</td>\n",
       "      <td>LeBron James</td>\n",
       "      <td>1610612739</td>\n",
       "      <td>Cleveland Cavaliers</td>\n",
       "      <td>1</td>\n",
       "      <td>6</td>\n",
       "      <td>30</td>\n",
       "      <td>Made Shot</td>\n",
       "      <td>Layup Shot</td>\n",
       "      <td>2PT Field Goal</td>\n",
       "      <td>Restricted Area</td>\n",
       "      <td>Center(C)</td>\n",
       "      <td>Less Than 8 ft.</td>\n",
       "      <td>0</td>\n",
       "      <td>-7</td>\n",
       "      <td>0</td>\n",
       "      <td>1</td>\n",
       "      <td>1</td>\n",
       "    </tr>\n",
       "  </tbody>\n",
       "</table>\n",
       "</div>"
      ],
      "text/plain": [
       "           GRID_TYPE   GAME_ID  GAME_EVENT_ID  PLAYER_ID   PLAYER_NAME  \\\n",
       "0  Shot Chart Detail  21400018              4       2544  LeBron James   \n",
       "1  Shot Chart Detail  21400018             33       2544  LeBron James   \n",
       "\n",
       "      TEAM_ID            TEAM_NAME  PERIOD  MINUTES_REMAINING  \\\n",
       "0  1610612739  Cleveland Cavaliers       1                 11   \n",
       "1  1610612739  Cleveland Cavaliers       1                  6   \n",
       "\n",
       "   SECONDS_REMAINING   EVENT_TYPE ACTION_TYPE       SHOT_TYPE  \\\n",
       "0                 20  Missed Shot   Jump Shot  2PT Field Goal   \n",
       "1                 30    Made Shot  Layup Shot  2PT Field Goal   \n",
       "\n",
       "   SHOT_ZONE_BASIC         SHOT_ZONE_AREA  SHOT_ZONE_RANGE  SHOT_DISTANCE  \\\n",
       "0        Mid-Range  Right Side Center(RC)        16-24 ft.             18   \n",
       "1  Restricted Area              Center(C)  Less Than 8 ft.              0   \n",
       "\n",
       "   LOC_X  LOC_Y  SHOT_ATTEMPTED_FLAG  SHOT_MADE_FLAG  \n",
       "0    114    148                    1               0  \n",
       "1     -7      0                    1               1  "
      ]
     },
     "execution_count": 10,
     "metadata": {},
     "output_type": "execute_result"
    }
   ],
   "source": [
    "shot_df2.head(2)\n"
   ]
  },
  {
   "cell_type": "code",
   "execution_count": null,
   "metadata": {
    "collapsed": true
   },
   "outputs": [],
   "source": []
  },
  {
   "cell_type": "markdown",
   "metadata": {
    "collapsed": true
   },
   "source": [
    "We can do indexing and slicing in a `DataFrame`.\n",
    "\n",
    "To display all the columns belonging to rows 0 to 2 of the `DataFrame shot_df2`, "
   ]
  },
  {
   "cell_type": "code",
   "execution_count": 11,
   "metadata": {
    "collapsed": false
   },
   "outputs": [
    {
     "data": {
      "text/html": [
       "<div>\n",
       "<table border=\"1\" class=\"dataframe\">\n",
       "  <thead>\n",
       "    <tr style=\"text-align: right;\">\n",
       "      <th></th>\n",
       "      <th>GRID_TYPE</th>\n",
       "      <th>GAME_ID</th>\n",
       "      <th>GAME_EVENT_ID</th>\n",
       "      <th>PLAYER_ID</th>\n",
       "      <th>PLAYER_NAME</th>\n",
       "      <th>TEAM_ID</th>\n",
       "      <th>TEAM_NAME</th>\n",
       "      <th>PERIOD</th>\n",
       "      <th>MINUTES_REMAINING</th>\n",
       "      <th>SECONDS_REMAINING</th>\n",
       "      <th>EVENT_TYPE</th>\n",
       "      <th>ACTION_TYPE</th>\n",
       "      <th>SHOT_TYPE</th>\n",
       "      <th>SHOT_ZONE_BASIC</th>\n",
       "      <th>SHOT_ZONE_AREA</th>\n",
       "      <th>SHOT_ZONE_RANGE</th>\n",
       "      <th>SHOT_DISTANCE</th>\n",
       "      <th>LOC_X</th>\n",
       "      <th>LOC_Y</th>\n",
       "      <th>SHOT_ATTEMPTED_FLAG</th>\n",
       "      <th>SHOT_MADE_FLAG</th>\n",
       "    </tr>\n",
       "  </thead>\n",
       "  <tbody>\n",
       "    <tr>\n",
       "      <th>0</th>\n",
       "      <td>Shot Chart Detail</td>\n",
       "      <td>21400018</td>\n",
       "      <td>4</td>\n",
       "      <td>2544</td>\n",
       "      <td>LeBron James</td>\n",
       "      <td>1610612739</td>\n",
       "      <td>Cleveland Cavaliers</td>\n",
       "      <td>1</td>\n",
       "      <td>11</td>\n",
       "      <td>20</td>\n",
       "      <td>Missed Shot</td>\n",
       "      <td>Jump Shot</td>\n",
       "      <td>2PT Field Goal</td>\n",
       "      <td>Mid-Range</td>\n",
       "      <td>Right Side Center(RC)</td>\n",
       "      <td>16-24 ft.</td>\n",
       "      <td>18</td>\n",
       "      <td>114</td>\n",
       "      <td>148</td>\n",
       "      <td>1</td>\n",
       "      <td>0</td>\n",
       "    </tr>\n",
       "    <tr>\n",
       "      <th>1</th>\n",
       "      <td>Shot Chart Detail</td>\n",
       "      <td>21400018</td>\n",
       "      <td>33</td>\n",
       "      <td>2544</td>\n",
       "      <td>LeBron James</td>\n",
       "      <td>1610612739</td>\n",
       "      <td>Cleveland Cavaliers</td>\n",
       "      <td>1</td>\n",
       "      <td>6</td>\n",
       "      <td>30</td>\n",
       "      <td>Made Shot</td>\n",
       "      <td>Layup Shot</td>\n",
       "      <td>2PT Field Goal</td>\n",
       "      <td>Restricted Area</td>\n",
       "      <td>Center(C)</td>\n",
       "      <td>Less Than 8 ft.</td>\n",
       "      <td>0</td>\n",
       "      <td>-7</td>\n",
       "      <td>0</td>\n",
       "      <td>1</td>\n",
       "      <td>1</td>\n",
       "    </tr>\n",
       "  </tbody>\n",
       "</table>\n",
       "</div>"
      ],
      "text/plain": [
       "           GRID_TYPE   GAME_ID  GAME_EVENT_ID  PLAYER_ID   PLAYER_NAME  \\\n",
       "0  Shot Chart Detail  21400018              4       2544  LeBron James   \n",
       "1  Shot Chart Detail  21400018             33       2544  LeBron James   \n",
       "\n",
       "      TEAM_ID            TEAM_NAME  PERIOD  MINUTES_REMAINING  \\\n",
       "0  1610612739  Cleveland Cavaliers       1                 11   \n",
       "1  1610612739  Cleveland Cavaliers       1                  6   \n",
       "\n",
       "   SECONDS_REMAINING   EVENT_TYPE ACTION_TYPE       SHOT_TYPE  \\\n",
       "0                 20  Missed Shot   Jump Shot  2PT Field Goal   \n",
       "1                 30    Made Shot  Layup Shot  2PT Field Goal   \n",
       "\n",
       "   SHOT_ZONE_BASIC         SHOT_ZONE_AREA  SHOT_ZONE_RANGE  SHOT_DISTANCE  \\\n",
       "0        Mid-Range  Right Side Center(RC)        16-24 ft.             18   \n",
       "1  Restricted Area              Center(C)  Less Than 8 ft.              0   \n",
       "\n",
       "   LOC_X  LOC_Y  SHOT_ATTEMPTED_FLAG  SHOT_MADE_FLAG  \n",
       "0    114    148                    1               0  \n",
       "1     -7      0                    1               1  "
      ]
     },
     "execution_count": 11,
     "metadata": {},
     "output_type": "execute_result"
    }
   ],
   "source": [
    "shot_df2.iloc[0:2,:]"
   ]
  },
  {
   "cell_type": "code",
   "execution_count": null,
   "metadata": {
    "collapsed": true
   },
   "outputs": [],
   "source": []
  },
  {
   "cell_type": "markdown",
   "metadata": {},
   "source": [
    "or we can display columns 10 to 13 of the first five rows,"
   ]
  },
  {
   "cell_type": "code",
   "execution_count": 75,
   "metadata": {
    "collapsed": false
   },
   "outputs": [
    {
     "data": {
      "text/html": [
       "<div>\n",
       "<table border=\"1\" class=\"dataframe\">\n",
       "  <thead>\n",
       "    <tr style=\"text-align: right;\">\n",
       "      <th></th>\n",
       "      <th>EVENT_TYPE</th>\n",
       "      <th>ACTION_TYPE</th>\n",
       "      <th>SHOT_TYPE</th>\n",
       "    </tr>\n",
       "  </thead>\n",
       "  <tbody>\n",
       "    <tr>\n",
       "      <th>0</th>\n",
       "      <td>Missed Shot</td>\n",
       "      <td>Jump Shot</td>\n",
       "      <td>2PT Field Goal</td>\n",
       "    </tr>\n",
       "    <tr>\n",
       "      <th>1</th>\n",
       "      <td>Made Shot</td>\n",
       "      <td>Layup Shot</td>\n",
       "      <td>2PT Field Goal</td>\n",
       "    </tr>\n",
       "    <tr>\n",
       "      <th>2</th>\n",
       "      <td>Missed Shot</td>\n",
       "      <td>Fadeaway Jump Shot</td>\n",
       "      <td>2PT Field Goal</td>\n",
       "    </tr>\n",
       "    <tr>\n",
       "      <th>3</th>\n",
       "      <td>Missed Shot</td>\n",
       "      <td>Jump Shot</td>\n",
       "      <td>3PT Field Goal</td>\n",
       "    </tr>\n",
       "    <tr>\n",
       "      <th>4</th>\n",
       "      <td>Missed Shot</td>\n",
       "      <td>Jump Shot</td>\n",
       "      <td>3PT Field Goal</td>\n",
       "    </tr>\n",
       "  </tbody>\n",
       "</table>\n",
       "</div>"
      ],
      "text/plain": [
       "    EVENT_TYPE         ACTION_TYPE       SHOT_TYPE\n",
       "0  Missed Shot           Jump Shot  2PT Field Goal\n",
       "1    Made Shot          Layup Shot  2PT Field Goal\n",
       "2  Missed Shot  Fadeaway Jump Shot  2PT Field Goal\n",
       "3  Missed Shot           Jump Shot  3PT Field Goal\n",
       "4  Missed Shot           Jump Shot  3PT Field Goal"
      ]
     },
     "execution_count": 75,
     "metadata": {},
     "output_type": "execute_result"
    }
   ],
   "source": [
    "shot_df2.iloc[0:5,10:13]\n"
   ]
  },
  {
   "cell_type": "code",
   "execution_count": null,
   "metadata": {
    "collapsed": true
   },
   "outputs": [],
   "source": []
  },
  {
   "cell_type": "markdown",
   "metadata": {
    "collapsed": true
   },
   "source": [
    "To load a json file using the module **json** (the hard way),"
   ]
  },
  {
   "cell_type": "code",
   "execution_count": 12,
   "metadata": {
    "collapsed": false
   },
   "outputs": [],
   "source": [
    "#import json\n",
    "#import pprint\n",
    "#from pprint import pprint\n",
    "\n",
    "#with open('data_json.json') as data_file:    \n",
    "#    data_json = json.load(data_file)\n",
    "\n",
    "#pprint(data_json)"
   ]
  },
  {
   "cell_type": "code",
   "execution_count": 13,
   "metadata": {
    "collapsed": false
   },
   "outputs": [],
   "source": [
    "#type(data_json)"
   ]
  },
  {
   "cell_type": "code",
   "execution_count": 14,
   "metadata": {
    "collapsed": false
   },
   "outputs": [],
   "source": [
    "#data_json['resultSets'][0]['headers']"
   ]
  },
  {
   "cell_type": "code",
   "execution_count": 15,
   "metadata": {
    "collapsed": false
   },
   "outputs": [],
   "source": [
    "#data_json['resultSets'][0]['rowSet']"
   ]
  },
  {
   "cell_type": "code",
   "execution_count": 16,
   "metadata": {
    "collapsed": false
   },
   "outputs": [],
   "source": [
    "#for x in data_json:\n",
    "#    print (x)"
   ]
  },
  {
   "cell_type": "code",
   "execution_count": 17,
   "metadata": {
    "collapsed": false
   },
   "outputs": [],
   "source": [
    "#for x in data_json['resultSets'][x]\n",
    "#    print (data_json['resultSets'][x])"
   ]
  },
  {
   "cell_type": "code",
   "execution_count": 18,
   "metadata": {
    "collapsed": false
   },
   "outputs": [],
   "source": [
    "#data_json\n",
    "#type(data_json['resultSets'][0])\n",
    "#print (data_json['resultSets'][0])"
   ]
  },
  {
   "cell_type": "code",
   "execution_count": null,
   "metadata": {
    "collapsed": true
   },
   "outputs": [],
   "source": []
  },
  {
   "cell_type": "code",
   "execution_count": null,
   "metadata": {
    "collapsed": true
   },
   "outputs": [],
   "source": []
  },
  {
   "cell_type": "markdown",
   "metadata": {},
   "source": [
    "To load the json file using **pandas**, we proceed as follows,"
   ]
  },
  {
   "cell_type": "code",
   "execution_count": 19,
   "metadata": {
    "collapsed": false
   },
   "outputs": [],
   "source": [
    "#pd_json=pd.read_json(path_or_buf='data_json.json')\n",
    "pd_json=pd.read_json(path_or_buf='data_json.json',typ='series')\n"
   ]
  },
  {
   "cell_type": "code",
   "execution_count": null,
   "metadata": {
    "collapsed": true
   },
   "outputs": [],
   "source": []
  },
  {
   "cell_type": "markdown",
   "metadata": {},
   "source": [
    "Remember, you can inspect the json file using **JSONView**, as in the previous tutorial."
   ]
  },
  {
   "cell_type": "markdown",
   "metadata": {},
   "source": [
    "To know the type of the json file we just loaded,"
   ]
  },
  {
   "cell_type": "code",
   "execution_count": 20,
   "metadata": {
    "collapsed": false
   },
   "outputs": [
    {
     "data": {
      "text/plain": [
       "pandas.core.series.Series"
      ]
     },
     "execution_count": 20,
     "metadata": {},
     "output_type": "execute_result"
    }
   ],
   "source": [
    "type(pd_json)\n"
   ]
  },
  {
   "cell_type": "markdown",
   "metadata": {
    "collapsed": true
   },
   "source": [
    "Notice that it is a `series` and not a `DataFrame`.  Later on we are going to see how to convert `series`  to a `DataFrame`, for the moment this does not generate any problem."
   ]
  },
  {
   "cell_type": "code",
   "execution_count": null,
   "metadata": {
    "collapsed": false
   },
   "outputs": [],
   "source": []
  },
  {
   "cell_type": "markdown",
   "metadata": {},
   "source": [
    "The next line will print the content of the json file.  This is the same information you see when you use **JSONView**, but now we read in the hard way."
   ]
  },
  {
   "cell_type": "code",
   "execution_count": 21,
   "metadata": {
    "collapsed": false
   },
   "outputs": [
    {
     "data": {
      "text/plain": [
       "parameters    {u'PlayerID': 2544, u'StartPeriod': None, u'St...\n",
       "resource                                        shotchartdetail\n",
       "resultSets    [{u'headers': [u'GRID_TYPE', u'GAME_ID', u'GAM...\n",
       "dtype: object"
      ]
     },
     "execution_count": 21,
     "metadata": {},
     "output_type": "execute_result"
    }
   ],
   "source": [
    "pd_json\n"
   ]
  },
  {
   "cell_type": "code",
   "execution_count": null,
   "metadata": {
    "collapsed": true
   },
   "outputs": [],
   "source": []
  },
  {
   "cell_type": "markdown",
   "metadata": {},
   "source": [
    "These lines will print the information inside each block of the json file, they are commented as they print a lot information."
   ]
  },
  {
   "cell_type": "code",
   "execution_count": 22,
   "metadata": {
    "collapsed": false
   },
   "outputs": [],
   "source": [
    "#pd_json.parameters\n"
   ]
  },
  {
   "cell_type": "code",
   "execution_count": 23,
   "metadata": {
    "collapsed": false
   },
   "outputs": [],
   "source": [
    "#pd_json.resource\n"
   ]
  },
  {
   "cell_type": "code",
   "execution_count": 24,
   "metadata": {
    "collapsed": false
   },
   "outputs": [],
   "source": [
    "#pd_json.resultSets\n"
   ]
  },
  {
   "cell_type": "code",
   "execution_count": null,
   "metadata": {
    "collapsed": true
   },
   "outputs": [],
   "source": []
  },
  {
   "cell_type": "markdown",
   "metadata": {},
   "source": [
    "At this point, we can create the `DataFrame` using the json file we imported in **pandas** (pretty much as in the previous tutorial).\n",
    "\n",
    "First we need to grab the headers and shot chart data."
   ]
  },
  {
   "cell_type": "code",
   "execution_count": 25,
   "metadata": {
    "collapsed": false
   },
   "outputs": [],
   "source": [
    "# Grab the headers to be used as column headers for our DataFrame\n",
    "json_headers = pd_json['resultSets'][0]['headers']"
   ]
  },
  {
   "cell_type": "code",
   "execution_count": 26,
   "metadata": {
    "collapsed": false
   },
   "outputs": [],
   "source": [
    "# Grab the shot chart data\n",
    "json_shots = pd_json['resultSets'][0]['rowSet']"
   ]
  },
  {
   "cell_type": "code",
   "execution_count": null,
   "metadata": {
    "collapsed": true
   },
   "outputs": [],
   "source": []
  },
  {
   "cell_type": "markdown",
   "metadata": {},
   "source": [
    "To display the content of `json_headers`"
   ]
  },
  {
   "cell_type": "code",
   "execution_count": 27,
   "metadata": {
    "collapsed": false
   },
   "outputs": [
    {
     "data": {
      "text/plain": [
       "[u'GRID_TYPE',\n",
       " u'GAME_ID',\n",
       " u'GAME_EVENT_ID',\n",
       " u'PLAYER_ID',\n",
       " u'PLAYER_NAME',\n",
       " u'TEAM_ID',\n",
       " u'TEAM_NAME',\n",
       " u'PERIOD',\n",
       " u'MINUTES_REMAINING',\n",
       " u'SECONDS_REMAINING',\n",
       " u'EVENT_TYPE',\n",
       " u'ACTION_TYPE',\n",
       " u'SHOT_TYPE',\n",
       " u'SHOT_ZONE_BASIC',\n",
       " u'SHOT_ZONE_AREA',\n",
       " u'SHOT_ZONE_RANGE',\n",
       " u'SHOT_DISTANCE',\n",
       " u'LOC_X',\n",
       " u'LOC_Y',\n",
       " u'SHOT_ATTEMPTED_FLAG',\n",
       " u'SHOT_MADE_FLAG']"
      ]
     },
     "execution_count": 27,
     "metadata": {},
     "output_type": "execute_result"
    }
   ],
   "source": [
    "json_headers\n"
   ]
  },
  {
   "cell_type": "code",
   "execution_count": null,
   "metadata": {
    "collapsed": false
   },
   "outputs": [],
   "source": []
  },
  {
   "cell_type": "markdown",
   "metadata": {},
   "source": [
    "To display the content of `json_shots`. This line is commented as it prints a lot information."
   ]
  },
  {
   "cell_type": "code",
   "execution_count": 28,
   "metadata": {
    "collapsed": false
   },
   "outputs": [],
   "source": [
    "#json_shots"
   ]
  },
  {
   "cell_type": "code",
   "execution_count": null,
   "metadata": {
    "collapsed": false
   },
   "outputs": [],
   "source": []
  },
  {
   "cell_type": "markdown",
   "metadata": {},
   "source": [
    "To create the `DataFrame` using `json_headers` and `json_shots`, "
   ]
  },
  {
   "cell_type": "code",
   "execution_count": 29,
   "metadata": {
    "collapsed": true
   },
   "outputs": [],
   "source": [
    "json_to_pd = pd.DataFrame(json_shots, columns=json_headers)\n"
   ]
  },
  {
   "cell_type": "code",
   "execution_count": null,
   "metadata": {
    "collapsed": true
   },
   "outputs": [],
   "source": []
  },
  {
   "cell_type": "markdown",
   "metadata": {},
   "source": [
    "and to display the first 5 rows of `json_to_pd`,"
   ]
  },
  {
   "cell_type": "code",
   "execution_count": 30,
   "metadata": {
    "collapsed": false
   },
   "outputs": [
    {
     "data": {
      "text/html": [
       "<div>\n",
       "<table border=\"1\" class=\"dataframe\">\n",
       "  <thead>\n",
       "    <tr style=\"text-align: right;\">\n",
       "      <th></th>\n",
       "      <th>GRID_TYPE</th>\n",
       "      <th>GAME_ID</th>\n",
       "      <th>GAME_EVENT_ID</th>\n",
       "      <th>PLAYER_ID</th>\n",
       "      <th>PLAYER_NAME</th>\n",
       "      <th>TEAM_ID</th>\n",
       "      <th>TEAM_NAME</th>\n",
       "      <th>PERIOD</th>\n",
       "      <th>MINUTES_REMAINING</th>\n",
       "      <th>SECONDS_REMAINING</th>\n",
       "      <th>EVENT_TYPE</th>\n",
       "      <th>ACTION_TYPE</th>\n",
       "      <th>SHOT_TYPE</th>\n",
       "      <th>SHOT_ZONE_BASIC</th>\n",
       "      <th>SHOT_ZONE_AREA</th>\n",
       "      <th>SHOT_ZONE_RANGE</th>\n",
       "      <th>SHOT_DISTANCE</th>\n",
       "      <th>LOC_X</th>\n",
       "      <th>LOC_Y</th>\n",
       "      <th>SHOT_ATTEMPTED_FLAG</th>\n",
       "      <th>SHOT_MADE_FLAG</th>\n",
       "    </tr>\n",
       "  </thead>\n",
       "  <tbody>\n",
       "    <tr>\n",
       "      <th>0</th>\n",
       "      <td>Shot Chart Detail</td>\n",
       "      <td>0021400018</td>\n",
       "      <td>4</td>\n",
       "      <td>2544</td>\n",
       "      <td>LeBron James</td>\n",
       "      <td>1610612739</td>\n",
       "      <td>Cleveland Cavaliers</td>\n",
       "      <td>1</td>\n",
       "      <td>11</td>\n",
       "      <td>20</td>\n",
       "      <td>Missed Shot</td>\n",
       "      <td>Jump Shot</td>\n",
       "      <td>2PT Field Goal</td>\n",
       "      <td>Mid-Range</td>\n",
       "      <td>Right Side Center(RC)</td>\n",
       "      <td>16-24 ft.</td>\n",
       "      <td>18</td>\n",
       "      <td>114</td>\n",
       "      <td>148</td>\n",
       "      <td>1</td>\n",
       "      <td>0</td>\n",
       "    </tr>\n",
       "    <tr>\n",
       "      <th>1</th>\n",
       "      <td>Shot Chart Detail</td>\n",
       "      <td>0021400018</td>\n",
       "      <td>33</td>\n",
       "      <td>2544</td>\n",
       "      <td>LeBron James</td>\n",
       "      <td>1610612739</td>\n",
       "      <td>Cleveland Cavaliers</td>\n",
       "      <td>1</td>\n",
       "      <td>6</td>\n",
       "      <td>30</td>\n",
       "      <td>Made Shot</td>\n",
       "      <td>Layup Shot</td>\n",
       "      <td>2PT Field Goal</td>\n",
       "      <td>Restricted Area</td>\n",
       "      <td>Center(C)</td>\n",
       "      <td>Less Than 8 ft.</td>\n",
       "      <td>0</td>\n",
       "      <td>-7</td>\n",
       "      <td>0</td>\n",
       "      <td>1</td>\n",
       "      <td>1</td>\n",
       "    </tr>\n",
       "    <tr>\n",
       "      <th>2</th>\n",
       "      <td>Shot Chart Detail</td>\n",
       "      <td>0021400018</td>\n",
       "      <td>53</td>\n",
       "      <td>2544</td>\n",
       "      <td>LeBron James</td>\n",
       "      <td>1610612739</td>\n",
       "      <td>Cleveland Cavaliers</td>\n",
       "      <td>1</td>\n",
       "      <td>4</td>\n",
       "      <td>45</td>\n",
       "      <td>Missed Shot</td>\n",
       "      <td>Fadeaway Jump Shot</td>\n",
       "      <td>2PT Field Goal</td>\n",
       "      <td>Mid-Range</td>\n",
       "      <td>Left Side(L)</td>\n",
       "      <td>8-16 ft.</td>\n",
       "      <td>12</td>\n",
       "      <td>-105</td>\n",
       "      <td>63</td>\n",
       "      <td>1</td>\n",
       "      <td>0</td>\n",
       "    </tr>\n",
       "    <tr>\n",
       "      <th>3</th>\n",
       "      <td>Shot Chart Detail</td>\n",
       "      <td>0021400018</td>\n",
       "      <td>77</td>\n",
       "      <td>2544</td>\n",
       "      <td>LeBron James</td>\n",
       "      <td>1610612739</td>\n",
       "      <td>Cleveland Cavaliers</td>\n",
       "      <td>1</td>\n",
       "      <td>2</td>\n",
       "      <td>31</td>\n",
       "      <td>Missed Shot</td>\n",
       "      <td>Jump Shot</td>\n",
       "      <td>3PT Field Goal</td>\n",
       "      <td>Right Corner 3</td>\n",
       "      <td>Right Side(R)</td>\n",
       "      <td>24+ ft.</td>\n",
       "      <td>22</td>\n",
       "      <td>227</td>\n",
       "      <td>-16</td>\n",
       "      <td>1</td>\n",
       "      <td>0</td>\n",
       "    </tr>\n",
       "    <tr>\n",
       "      <th>4</th>\n",
       "      <td>Shot Chart Detail</td>\n",
       "      <td>0021400018</td>\n",
       "      <td>82</td>\n",
       "      <td>2544</td>\n",
       "      <td>LeBron James</td>\n",
       "      <td>1610612739</td>\n",
       "      <td>Cleveland Cavaliers</td>\n",
       "      <td>1</td>\n",
       "      <td>1</td>\n",
       "      <td>51</td>\n",
       "      <td>Missed Shot</td>\n",
       "      <td>Jump Shot</td>\n",
       "      <td>3PT Field Goal</td>\n",
       "      <td>Above the Break 3</td>\n",
       "      <td>Right Side Center(RC)</td>\n",
       "      <td>24+ ft.</td>\n",
       "      <td>26</td>\n",
       "      <td>91</td>\n",
       "      <td>246</td>\n",
       "      <td>1</td>\n",
       "      <td>0</td>\n",
       "    </tr>\n",
       "  </tbody>\n",
       "</table>\n",
       "</div>"
      ],
      "text/plain": [
       "           GRID_TYPE     GAME_ID  GAME_EVENT_ID  PLAYER_ID   PLAYER_NAME  \\\n",
       "0  Shot Chart Detail  0021400018              4       2544  LeBron James   \n",
       "1  Shot Chart Detail  0021400018             33       2544  LeBron James   \n",
       "2  Shot Chart Detail  0021400018             53       2544  LeBron James   \n",
       "3  Shot Chart Detail  0021400018             77       2544  LeBron James   \n",
       "4  Shot Chart Detail  0021400018             82       2544  LeBron James   \n",
       "\n",
       "      TEAM_ID            TEAM_NAME  PERIOD  MINUTES_REMAINING  \\\n",
       "0  1610612739  Cleveland Cavaliers       1                 11   \n",
       "1  1610612739  Cleveland Cavaliers       1                  6   \n",
       "2  1610612739  Cleveland Cavaliers       1                  4   \n",
       "3  1610612739  Cleveland Cavaliers       1                  2   \n",
       "4  1610612739  Cleveland Cavaliers       1                  1   \n",
       "\n",
       "   SECONDS_REMAINING   EVENT_TYPE         ACTION_TYPE       SHOT_TYPE  \\\n",
       "0                 20  Missed Shot           Jump Shot  2PT Field Goal   \n",
       "1                 30    Made Shot          Layup Shot  2PT Field Goal   \n",
       "2                 45  Missed Shot  Fadeaway Jump Shot  2PT Field Goal   \n",
       "3                 31  Missed Shot           Jump Shot  3PT Field Goal   \n",
       "4                 51  Missed Shot           Jump Shot  3PT Field Goal   \n",
       "\n",
       "     SHOT_ZONE_BASIC         SHOT_ZONE_AREA  SHOT_ZONE_RANGE  SHOT_DISTANCE  \\\n",
       "0          Mid-Range  Right Side Center(RC)        16-24 ft.             18   \n",
       "1    Restricted Area              Center(C)  Less Than 8 ft.              0   \n",
       "2          Mid-Range           Left Side(L)         8-16 ft.             12   \n",
       "3     Right Corner 3          Right Side(R)          24+ ft.             22   \n",
       "4  Above the Break 3  Right Side Center(RC)          24+ ft.             26   \n",
       "\n",
       "   LOC_X  LOC_Y  SHOT_ATTEMPTED_FLAG  SHOT_MADE_FLAG  \n",
       "0    114    148                    1               0  \n",
       "1     -7      0                    1               1  \n",
       "2   -105     63                    1               0  \n",
       "3    227    -16                    1               0  \n",
       "4     91    246                    1               0  "
      ]
     },
     "execution_count": 30,
     "metadata": {},
     "output_type": "execute_result"
    }
   ],
   "source": [
    "json_to_pd.head()\n"
   ]
  },
  {
   "cell_type": "code",
   "execution_count": null,
   "metadata": {
    "collapsed": true
   },
   "outputs": [],
   "source": []
  },
  {
   "cell_type": "markdown",
   "metadata": {},
   "source": [
    "To determine if `json_to_pd` is equal to `shot_df1` (we only display the first 5 rows),"
   ]
  },
  {
   "cell_type": "code",
   "execution_count": 31,
   "metadata": {
    "collapsed": false,
    "scrolled": true
   },
   "outputs": [
    {
     "data": {
      "text/html": [
       "<div>\n",
       "<table border=\"1\" class=\"dataframe\">\n",
       "  <thead>\n",
       "    <tr style=\"text-align: right;\">\n",
       "      <th></th>\n",
       "      <th>GRID_TYPE</th>\n",
       "      <th>GAME_ID</th>\n",
       "      <th>GAME_EVENT_ID</th>\n",
       "      <th>PLAYER_ID</th>\n",
       "      <th>PLAYER_NAME</th>\n",
       "      <th>TEAM_ID</th>\n",
       "      <th>TEAM_NAME</th>\n",
       "      <th>PERIOD</th>\n",
       "      <th>MINUTES_REMAINING</th>\n",
       "      <th>SECONDS_REMAINING</th>\n",
       "      <th>EVENT_TYPE</th>\n",
       "      <th>ACTION_TYPE</th>\n",
       "      <th>SHOT_TYPE</th>\n",
       "      <th>SHOT_ZONE_BASIC</th>\n",
       "      <th>SHOT_ZONE_AREA</th>\n",
       "      <th>SHOT_ZONE_RANGE</th>\n",
       "      <th>SHOT_DISTANCE</th>\n",
       "      <th>LOC_X</th>\n",
       "      <th>LOC_Y</th>\n",
       "      <th>SHOT_ATTEMPTED_FLAG</th>\n",
       "      <th>SHOT_MADE_FLAG</th>\n",
       "    </tr>\n",
       "  </thead>\n",
       "  <tbody>\n",
       "    <tr>\n",
       "      <th>0</th>\n",
       "      <td>True</td>\n",
       "      <td>False</td>\n",
       "      <td>True</td>\n",
       "      <td>True</td>\n",
       "      <td>True</td>\n",
       "      <td>True</td>\n",
       "      <td>True</td>\n",
       "      <td>True</td>\n",
       "      <td>True</td>\n",
       "      <td>True</td>\n",
       "      <td>True</td>\n",
       "      <td>True</td>\n",
       "      <td>True</td>\n",
       "      <td>True</td>\n",
       "      <td>True</td>\n",
       "      <td>True</td>\n",
       "      <td>True</td>\n",
       "      <td>True</td>\n",
       "      <td>True</td>\n",
       "      <td>True</td>\n",
       "      <td>True</td>\n",
       "    </tr>\n",
       "    <tr>\n",
       "      <th>1</th>\n",
       "      <td>True</td>\n",
       "      <td>False</td>\n",
       "      <td>True</td>\n",
       "      <td>True</td>\n",
       "      <td>True</td>\n",
       "      <td>True</td>\n",
       "      <td>True</td>\n",
       "      <td>True</td>\n",
       "      <td>True</td>\n",
       "      <td>True</td>\n",
       "      <td>True</td>\n",
       "      <td>True</td>\n",
       "      <td>True</td>\n",
       "      <td>True</td>\n",
       "      <td>True</td>\n",
       "      <td>True</td>\n",
       "      <td>True</td>\n",
       "      <td>True</td>\n",
       "      <td>True</td>\n",
       "      <td>True</td>\n",
       "      <td>True</td>\n",
       "    </tr>\n",
       "    <tr>\n",
       "      <th>2</th>\n",
       "      <td>True</td>\n",
       "      <td>False</td>\n",
       "      <td>True</td>\n",
       "      <td>True</td>\n",
       "      <td>True</td>\n",
       "      <td>True</td>\n",
       "      <td>True</td>\n",
       "      <td>True</td>\n",
       "      <td>True</td>\n",
       "      <td>True</td>\n",
       "      <td>True</td>\n",
       "      <td>True</td>\n",
       "      <td>True</td>\n",
       "      <td>True</td>\n",
       "      <td>True</td>\n",
       "      <td>True</td>\n",
       "      <td>True</td>\n",
       "      <td>True</td>\n",
       "      <td>True</td>\n",
       "      <td>True</td>\n",
       "      <td>True</td>\n",
       "    </tr>\n",
       "    <tr>\n",
       "      <th>3</th>\n",
       "      <td>True</td>\n",
       "      <td>False</td>\n",
       "      <td>True</td>\n",
       "      <td>True</td>\n",
       "      <td>True</td>\n",
       "      <td>True</td>\n",
       "      <td>True</td>\n",
       "      <td>True</td>\n",
       "      <td>True</td>\n",
       "      <td>True</td>\n",
       "      <td>True</td>\n",
       "      <td>True</td>\n",
       "      <td>True</td>\n",
       "      <td>True</td>\n",
       "      <td>True</td>\n",
       "      <td>True</td>\n",
       "      <td>True</td>\n",
       "      <td>True</td>\n",
       "      <td>True</td>\n",
       "      <td>True</td>\n",
       "      <td>True</td>\n",
       "    </tr>\n",
       "    <tr>\n",
       "      <th>4</th>\n",
       "      <td>True</td>\n",
       "      <td>False</td>\n",
       "      <td>True</td>\n",
       "      <td>True</td>\n",
       "      <td>True</td>\n",
       "      <td>True</td>\n",
       "      <td>True</td>\n",
       "      <td>True</td>\n",
       "      <td>True</td>\n",
       "      <td>True</td>\n",
       "      <td>True</td>\n",
       "      <td>True</td>\n",
       "      <td>True</td>\n",
       "      <td>True</td>\n",
       "      <td>True</td>\n",
       "      <td>True</td>\n",
       "      <td>True</td>\n",
       "      <td>True</td>\n",
       "      <td>True</td>\n",
       "      <td>True</td>\n",
       "      <td>True</td>\n",
       "    </tr>\n",
       "  </tbody>\n",
       "</table>\n",
       "</div>"
      ],
      "text/plain": [
       "  GRID_TYPE GAME_ID GAME_EVENT_ID PLAYER_ID PLAYER_NAME TEAM_ID TEAM_NAME  \\\n",
       "0      True   False          True      True        True    True      True   \n",
       "1      True   False          True      True        True    True      True   \n",
       "2      True   False          True      True        True    True      True   \n",
       "3      True   False          True      True        True    True      True   \n",
       "4      True   False          True      True        True    True      True   \n",
       "\n",
       "  PERIOD MINUTES_REMAINING SECONDS_REMAINING EVENT_TYPE ACTION_TYPE SHOT_TYPE  \\\n",
       "0   True              True              True       True        True      True   \n",
       "1   True              True              True       True        True      True   \n",
       "2   True              True              True       True        True      True   \n",
       "3   True              True              True       True        True      True   \n",
       "4   True              True              True       True        True      True   \n",
       "\n",
       "  SHOT_ZONE_BASIC SHOT_ZONE_AREA SHOT_ZONE_RANGE SHOT_DISTANCE LOC_X LOC_Y  \\\n",
       "0            True           True            True          True  True  True   \n",
       "1            True           True            True          True  True  True   \n",
       "2            True           True            True          True  True  True   \n",
       "3            True           True            True          True  True  True   \n",
       "4            True           True            True          True  True  True   \n",
       "\n",
       "  SHOT_ATTEMPTED_FLAG SHOT_MADE_FLAG  \n",
       "0                True           True  \n",
       "1                True           True  \n",
       "2                True           True  \n",
       "3                True           True  \n",
       "4                True           True  "
      ]
     },
     "execution_count": 31,
     "metadata": {},
     "output_type": "execute_result"
    }
   ],
   "source": [
    "json_to_pd.head() == shot_df1.head()"
   ]
  },
  {
   "cell_type": "markdown",
   "metadata": {},
   "source": [
    "Notice that the only difference is the column **GAME_ID**.  When loading the csv, **pandas** erased the leading zeroes, the rest of the columns are equal.\n",
    "\n",
    "This can be fixed, but I will let you as an exercise."
   ]
  },
  {
   "cell_type": "code",
   "execution_count": null,
   "metadata": {
    "collapsed": true
   },
   "outputs": [],
   "source": []
  },
  {
   "cell_type": "markdown",
   "metadata": {},
   "source": [
    "The `DataFrame` `shot_df1` contains the shot chart data of all the field goal attempts Lebron James took during the 2014-15 regular season. \n",
    "\n",
    "We are specifically interested in the data saved in the columns `LOC_X`, `LOC_Y` and `SHOT_MADE_FLAG`. The columns `LOC_X` and `LOC_Y` contain the coordinate values for each shot measured from the basket rim.  The column `SHOT_MADE_FLAG` contains the outcome of the shot, 0 for missed and 1 for converted.\n",
    "\n",
    "To extract from the `DataFrame` `shot_df1` the converted shots or **shot_df1.SHOT_MADE_FLAG == 1**, we proceed as follows (we only display the first 2 rows),\n"
   ]
  },
  {
   "cell_type": "code",
   "execution_count": 32,
   "metadata": {
    "collapsed": false
   },
   "outputs": [
    {
     "data": {
      "text/html": [
       "<div>\n",
       "<table border=\"1\" class=\"dataframe\">\n",
       "  <thead>\n",
       "    <tr style=\"text-align: right;\">\n",
       "      <th></th>\n",
       "      <th>GRID_TYPE</th>\n",
       "      <th>GAME_ID</th>\n",
       "      <th>GAME_EVENT_ID</th>\n",
       "      <th>PLAYER_ID</th>\n",
       "      <th>PLAYER_NAME</th>\n",
       "      <th>TEAM_ID</th>\n",
       "      <th>TEAM_NAME</th>\n",
       "      <th>PERIOD</th>\n",
       "      <th>MINUTES_REMAINING</th>\n",
       "      <th>SECONDS_REMAINING</th>\n",
       "      <th>EVENT_TYPE</th>\n",
       "      <th>ACTION_TYPE</th>\n",
       "      <th>SHOT_TYPE</th>\n",
       "      <th>SHOT_ZONE_BASIC</th>\n",
       "      <th>SHOT_ZONE_AREA</th>\n",
       "      <th>SHOT_ZONE_RANGE</th>\n",
       "      <th>SHOT_DISTANCE</th>\n",
       "      <th>LOC_X</th>\n",
       "      <th>LOC_Y</th>\n",
       "      <th>SHOT_ATTEMPTED_FLAG</th>\n",
       "      <th>SHOT_MADE_FLAG</th>\n",
       "    </tr>\n",
       "  </thead>\n",
       "  <tbody>\n",
       "    <tr>\n",
       "      <th>1</th>\n",
       "      <td>Shot Chart Detail</td>\n",
       "      <td>21400018</td>\n",
       "      <td>33</td>\n",
       "      <td>2544</td>\n",
       "      <td>LeBron James</td>\n",
       "      <td>1610612739</td>\n",
       "      <td>Cleveland Cavaliers</td>\n",
       "      <td>1</td>\n",
       "      <td>6</td>\n",
       "      <td>30</td>\n",
       "      <td>Made Shot</td>\n",
       "      <td>Layup Shot</td>\n",
       "      <td>2PT Field Goal</td>\n",
       "      <td>Restricted Area</td>\n",
       "      <td>Center(C)</td>\n",
       "      <td>Less Than 8 ft.</td>\n",
       "      <td>0</td>\n",
       "      <td>-7</td>\n",
       "      <td>0</td>\n",
       "      <td>1</td>\n",
       "      <td>1</td>\n",
       "    </tr>\n",
       "    <tr>\n",
       "      <th>9</th>\n",
       "      <td>Shot Chart Detail</td>\n",
       "      <td>21400018</td>\n",
       "      <td>299</td>\n",
       "      <td>2544</td>\n",
       "      <td>LeBron James</td>\n",
       "      <td>1610612739</td>\n",
       "      <td>Cleveland Cavaliers</td>\n",
       "      <td>3</td>\n",
       "      <td>6</td>\n",
       "      <td>54</td>\n",
       "      <td>Made Shot</td>\n",
       "      <td>Jump Shot</td>\n",
       "      <td>3PT Field Goal</td>\n",
       "      <td>Above the Break 3</td>\n",
       "      <td>Center(C)</td>\n",
       "      <td>24+ ft.</td>\n",
       "      <td>25</td>\n",
       "      <td>26</td>\n",
       "      <td>249</td>\n",
       "      <td>1</td>\n",
       "      <td>1</td>\n",
       "    </tr>\n",
       "  </tbody>\n",
       "</table>\n",
       "</div>"
      ],
      "text/plain": [
       "           GRID_TYPE   GAME_ID  GAME_EVENT_ID  PLAYER_ID   PLAYER_NAME  \\\n",
       "1  Shot Chart Detail  21400018             33       2544  LeBron James   \n",
       "9  Shot Chart Detail  21400018            299       2544  LeBron James   \n",
       "\n",
       "      TEAM_ID            TEAM_NAME  PERIOD  MINUTES_REMAINING  \\\n",
       "1  1610612739  Cleveland Cavaliers       1                  6   \n",
       "9  1610612739  Cleveland Cavaliers       3                  6   \n",
       "\n",
       "   SECONDS_REMAINING EVENT_TYPE ACTION_TYPE       SHOT_TYPE  \\\n",
       "1                 30  Made Shot  Layup Shot  2PT Field Goal   \n",
       "9                 54  Made Shot   Jump Shot  3PT Field Goal   \n",
       "\n",
       "     SHOT_ZONE_BASIC SHOT_ZONE_AREA  SHOT_ZONE_RANGE  SHOT_DISTANCE  LOC_X  \\\n",
       "1    Restricted Area      Center(C)  Less Than 8 ft.              0     -7   \n",
       "9  Above the Break 3      Center(C)          24+ ft.             25     26   \n",
       "\n",
       "   LOC_Y  SHOT_ATTEMPTED_FLAG  SHOT_MADE_FLAG  \n",
       "1      0                    1               1  \n",
       "9    249                    1               1  "
      ]
     },
     "execution_count": 32,
     "metadata": {},
     "output_type": "execute_result"
    }
   ],
   "source": [
    "shot_df1[shot_df1.SHOT_MADE_FLAG == 1].head(2)\n"
   ]
  },
  {
   "cell_type": "code",
   "execution_count": null,
   "metadata": {
    "collapsed": true
   },
   "outputs": [],
   "source": []
  },
  {
   "cell_type": "markdown",
   "metadata": {},
   "source": [
    "To save the previous output in the `DataFrame` `converted`,"
   ]
  },
  {
   "cell_type": "code",
   "execution_count": 33,
   "metadata": {
    "collapsed": true
   },
   "outputs": [],
   "source": [
    "converted = shot_df1[shot_df1.SHOT_MADE_FLAG == 1]"
   ]
  },
  {
   "cell_type": "code",
   "execution_count": null,
   "metadata": {
    "collapsed": false
   },
   "outputs": [],
   "source": []
  },
  {
   "cell_type": "markdown",
   "metadata": {},
   "source": [
    "To get the dimensions of the `DataFrame`"
   ]
  },
  {
   "cell_type": "code",
   "execution_count": 34,
   "metadata": {
    "collapsed": false
   },
   "outputs": [
    {
     "data": {
      "text/plain": [
       "(624, 21)"
      ]
     },
     "execution_count": 34,
     "metadata": {},
     "output_type": "execute_result"
    }
   ],
   "source": [
    "converted.shape"
   ]
  },
  {
   "cell_type": "code",
   "execution_count": null,
   "metadata": {
    "collapsed": true
   },
   "outputs": [],
   "source": []
  },
  {
   "cell_type": "markdown",
   "metadata": {},
   "source": [
    "To save the output of the missed shots in the `DataFrame` `missed`,"
   ]
  },
  {
   "cell_type": "code",
   "execution_count": 35,
   "metadata": {
    "collapsed": true
   },
   "outputs": [],
   "source": [
    "missed = shot_df1[shot_df1.SHOT_MADE_FLAG == 0]"
   ]
  },
  {
   "cell_type": "code",
   "execution_count": null,
   "metadata": {
    "collapsed": true
   },
   "outputs": [],
   "source": []
  },
  {
   "cell_type": "markdown",
   "metadata": {},
   "source": [
    "Let's create a new `DataFrame` as follows,"
   ]
  },
  {
   "cell_type": "code",
   "execution_count": 36,
   "metadata": {
    "collapsed": true
   },
   "outputs": [],
   "source": [
    "new_df = pd.DataFrame()"
   ]
  },
  {
   "cell_type": "code",
   "execution_count": null,
   "metadata": {
    "collapsed": true
   },
   "outputs": [],
   "source": []
  },
  {
   "cell_type": "markdown",
   "metadata": {},
   "source": [
    "and let's extract some information from the `DataFrame` `shot_df1` and put it on the `DataFrame` `new_df`.  \n",
    "\n",
    "Notice that we can access the information in a `DataFrame` as \n",
    "\n",
    "`shot_df1.LOC_X` \n",
    "\n",
    "or\n",
    "\n",
    "`shot_df1['LOC_X']`."
   ]
  },
  {
   "cell_type": "code",
   "execution_count": 37,
   "metadata": {
    "collapsed": false
   },
   "outputs": [],
   "source": [
    "new_df['LOC_X'] = shot_df1.LOC_X\n",
    "new_df['LOC_Y'] = shot_df1['LOC_Y']\n",
    "new_df['SHOT_MADE_FLAG'] = shot_df1['SHOT_MADE_FLAG']\n",
    "new_df['SHOT_TYPE'] = shot_df1['SHOT_TYPE']\n"
   ]
  },
  {
   "cell_type": "code",
   "execution_count": null,
   "metadata": {
    "collapsed": true
   },
   "outputs": [],
   "source": []
  },
  {
   "cell_type": "markdown",
   "metadata": {},
   "source": [
    "To display the information in the `DataFrame` `new_df` (we only display the first 5 rows),"
   ]
  },
  {
   "cell_type": "code",
   "execution_count": 38,
   "metadata": {
    "collapsed": false
   },
   "outputs": [
    {
     "data": {
      "text/html": [
       "<div>\n",
       "<table border=\"1\" class=\"dataframe\">\n",
       "  <thead>\n",
       "    <tr style=\"text-align: right;\">\n",
       "      <th></th>\n",
       "      <th>LOC_X</th>\n",
       "      <th>LOC_Y</th>\n",
       "      <th>SHOT_MADE_FLAG</th>\n",
       "      <th>SHOT_TYPE</th>\n",
       "    </tr>\n",
       "  </thead>\n",
       "  <tbody>\n",
       "    <tr>\n",
       "      <th>0</th>\n",
       "      <td>114</td>\n",
       "      <td>148</td>\n",
       "      <td>0</td>\n",
       "      <td>2PT Field Goal</td>\n",
       "    </tr>\n",
       "    <tr>\n",
       "      <th>1</th>\n",
       "      <td>-7</td>\n",
       "      <td>0</td>\n",
       "      <td>1</td>\n",
       "      <td>2PT Field Goal</td>\n",
       "    </tr>\n",
       "    <tr>\n",
       "      <th>2</th>\n",
       "      <td>-105</td>\n",
       "      <td>63</td>\n",
       "      <td>0</td>\n",
       "      <td>2PT Field Goal</td>\n",
       "    </tr>\n",
       "    <tr>\n",
       "      <th>3</th>\n",
       "      <td>227</td>\n",
       "      <td>-16</td>\n",
       "      <td>0</td>\n",
       "      <td>3PT Field Goal</td>\n",
       "    </tr>\n",
       "    <tr>\n",
       "      <th>4</th>\n",
       "      <td>91</td>\n",
       "      <td>246</td>\n",
       "      <td>0</td>\n",
       "      <td>3PT Field Goal</td>\n",
       "    </tr>\n",
       "  </tbody>\n",
       "</table>\n",
       "</div>"
      ],
      "text/plain": [
       "   LOC_X  LOC_Y  SHOT_MADE_FLAG       SHOT_TYPE\n",
       "0    114    148               0  2PT Field Goal\n",
       "1     -7      0               1  2PT Field Goal\n",
       "2   -105     63               0  2PT Field Goal\n",
       "3    227    -16               0  3PT Field Goal\n",
       "4     91    246               0  3PT Field Goal"
      ]
     },
     "execution_count": 38,
     "metadata": {},
     "output_type": "execute_result"
    }
   ],
   "source": [
    "#pprint(new_df.head(4))\n",
    "new_df.head()\n"
   ]
  },
  {
   "cell_type": "code",
   "execution_count": null,
   "metadata": {
    "collapsed": true
   },
   "outputs": [],
   "source": []
  },
  {
   "cell_type": "markdown",
   "metadata": {},
   "source": [
    "We can also extract information from a `DataFrame` using strings.  From the `DataFrame` `new_df`, let's extract the `SHOT_TYPE` information as follows,"
   ]
  },
  {
   "cell_type": "code",
   "execution_count": 39,
   "metadata": {
    "collapsed": false
   },
   "outputs": [],
   "source": [
    "three_pointer = new_df[new_df.SHOT_TYPE == '3PT Field Goal']\n",
    "two_pointer = new_df[new_df.SHOT_TYPE == '2PT Field Goal']\n"
   ]
  },
  {
   "cell_type": "code",
   "execution_count": null,
   "metadata": {
    "collapsed": true
   },
   "outputs": [],
   "source": []
  },
  {
   "cell_type": "markdown",
   "metadata": {},
   "source": [
    "To display the information contained in the `DataFrame` `three_pointer` and `two_pointer` (we only display the first 2 rows),"
   ]
  },
  {
   "cell_type": "code",
   "execution_count": 40,
   "metadata": {
    "collapsed": false
   },
   "outputs": [
    {
     "data": {
      "text/html": [
       "<div>\n",
       "<table border=\"1\" class=\"dataframe\">\n",
       "  <thead>\n",
       "    <tr style=\"text-align: right;\">\n",
       "      <th></th>\n",
       "      <th>LOC_X</th>\n",
       "      <th>LOC_Y</th>\n",
       "      <th>SHOT_MADE_FLAG</th>\n",
       "      <th>SHOT_TYPE</th>\n",
       "    </tr>\n",
       "  </thead>\n",
       "  <tbody>\n",
       "    <tr>\n",
       "      <th>3</th>\n",
       "      <td>227</td>\n",
       "      <td>-16</td>\n",
       "      <td>0</td>\n",
       "      <td>3PT Field Goal</td>\n",
       "    </tr>\n",
       "    <tr>\n",
       "      <th>4</th>\n",
       "      <td>91</td>\n",
       "      <td>246</td>\n",
       "      <td>0</td>\n",
       "      <td>3PT Field Goal</td>\n",
       "    </tr>\n",
       "  </tbody>\n",
       "</table>\n",
       "</div>"
      ],
      "text/plain": [
       "   LOC_X  LOC_Y  SHOT_MADE_FLAG       SHOT_TYPE\n",
       "3    227    -16               0  3PT Field Goal\n",
       "4     91    246               0  3PT Field Goal"
      ]
     },
     "execution_count": 40,
     "metadata": {},
     "output_type": "execute_result"
    }
   ],
   "source": [
    "three_pointer.head(2)\n"
   ]
  },
  {
   "cell_type": "code",
   "execution_count": 41,
   "metadata": {
    "collapsed": false
   },
   "outputs": [
    {
     "data": {
      "text/html": [
       "<div>\n",
       "<table border=\"1\" class=\"dataframe\">\n",
       "  <thead>\n",
       "    <tr style=\"text-align: right;\">\n",
       "      <th></th>\n",
       "      <th>LOC_X</th>\n",
       "      <th>LOC_Y</th>\n",
       "      <th>SHOT_MADE_FLAG</th>\n",
       "      <th>SHOT_TYPE</th>\n",
       "    </tr>\n",
       "  </thead>\n",
       "  <tbody>\n",
       "    <tr>\n",
       "      <th>0</th>\n",
       "      <td>114</td>\n",
       "      <td>148</td>\n",
       "      <td>0</td>\n",
       "      <td>2PT Field Goal</td>\n",
       "    </tr>\n",
       "    <tr>\n",
       "      <th>1</th>\n",
       "      <td>-7</td>\n",
       "      <td>0</td>\n",
       "      <td>1</td>\n",
       "      <td>2PT Field Goal</td>\n",
       "    </tr>\n",
       "  </tbody>\n",
       "</table>\n",
       "</div>"
      ],
      "text/plain": [
       "   LOC_X  LOC_Y  SHOT_MADE_FLAG       SHOT_TYPE\n",
       "0    114    148               0  2PT Field Goal\n",
       "1     -7      0               1  2PT Field Goal"
      ]
     },
     "execution_count": 41,
     "metadata": {},
     "output_type": "execute_result"
    }
   ],
   "source": [
    "two_pointer.head(2)\n"
   ]
  },
  {
   "cell_type": "code",
   "execution_count": null,
   "metadata": {
    "collapsed": true
   },
   "outputs": [],
   "source": []
  },
  {
   "cell_type": "markdown",
   "metadata": {},
   "source": [
    "To know the type of `two_pointer`,"
   ]
  },
  {
   "cell_type": "code",
   "execution_count": 42,
   "metadata": {
    "collapsed": false
   },
   "outputs": [
    {
     "data": {
      "text/plain": [
       "pandas.core.frame.DataFrame"
      ]
     },
     "execution_count": 42,
     "metadata": {},
     "output_type": "execute_result"
    }
   ],
   "source": [
    "type(two_pointer)"
   ]
  },
  {
   "cell_type": "code",
   "execution_count": null,
   "metadata": {
    "collapsed": true
   },
   "outputs": [],
   "source": []
  },
  {
   "cell_type": "markdown",
   "metadata": {},
   "source": [
    "Notice that if we extract the column `two_pointer['LOC_X']` and save it in the object `tmp_object`, as follows,"
   ]
  },
  {
   "cell_type": "code",
   "execution_count": 43,
   "metadata": {
    "collapsed": false
   },
   "outputs": [],
   "source": [
    "tmp_object = two_pointer['LOC_X']\n"
   ]
  },
  {
   "cell_type": "code",
   "execution_count": null,
   "metadata": {
    "collapsed": true
   },
   "outputs": [],
   "source": []
  },
  {
   "cell_type": "markdown",
   "metadata": {},
   "source": [
    "The type of the object `tmp_object` is a **pandas** `series` instead of a `DataFrame`. "
   ]
  },
  {
   "cell_type": "code",
   "execution_count": 44,
   "metadata": {
    "collapsed": false
   },
   "outputs": [
    {
     "data": {
      "text/plain": [
       "pandas.core.series.Series"
      ]
     },
     "execution_count": 44,
     "metadata": {},
     "output_type": "execute_result"
    }
   ],
   "source": [
    "type(tmp_object)\n"
   ]
  },
  {
   "cell_type": "code",
   "execution_count": null,
   "metadata": {
    "collapsed": false
   },
   "outputs": [],
   "source": []
  },
  {
   "cell_type": "markdown",
   "metadata": {},
   "source": [
    "To convert `tmp_object` to a `DataFrame`, we proceed as follows. \n",
    "\n",
    "Notice that the option `name` in `to_frame(name='LOC_X')`, corresponds to the name we want to assign to that column in the `DataFrame tmp_object1`."
   ]
  },
  {
   "cell_type": "code",
   "execution_count": 45,
   "metadata": {
    "collapsed": true
   },
   "outputs": [],
   "source": [
    "tmp_object1 = two_pointer['LOC_X'].to_frame(name='LOC_X')\n"
   ]
  },
  {
   "cell_type": "code",
   "execution_count": null,
   "metadata": {
    "collapsed": false
   },
   "outputs": [],
   "source": []
  },
  {
   "cell_type": "markdown",
   "metadata": {},
   "source": [
    "which has a type"
   ]
  },
  {
   "cell_type": "code",
   "execution_count": 46,
   "metadata": {
    "collapsed": false
   },
   "outputs": [
    {
     "data": {
      "text/plain": [
       "pandas.core.frame.DataFrame"
      ]
     },
     "execution_count": 46,
     "metadata": {},
     "output_type": "execute_result"
    }
   ],
   "source": [
    "type(tmp_object1)\n"
   ]
  },
  {
   "cell_type": "code",
   "execution_count": null,
   "metadata": {
    "collapsed": true
   },
   "outputs": [],
   "source": []
  },
  {
   "cell_type": "markdown",
   "metadata": {},
   "source": [
    "To convert a pandas series or DataFrame to a numpy array, we proceed as follows,"
   ]
  },
  {
   "cell_type": "code",
   "execution_count": 47,
   "metadata": {
    "collapsed": false
   },
   "outputs": [],
   "source": [
    "np_array0 = shot_df1.as_matrix(columns=None)\n",
    "\n",
    "np_array1 = two_pointer['LOC_X'].as_matrix(columns=None)\n"
   ]
  },
  {
   "cell_type": "code",
   "execution_count": null,
   "metadata": {
    "collapsed": true
   },
   "outputs": [],
   "source": []
  },
  {
   "cell_type": "markdown",
   "metadata": {},
   "source": [
    "which has a type"
   ]
  },
  {
   "cell_type": "code",
   "execution_count": 48,
   "metadata": {
    "collapsed": false
   },
   "outputs": [
    {
     "data": {
      "text/plain": [
       "numpy.ndarray"
      ]
     },
     "execution_count": 48,
     "metadata": {},
     "output_type": "execute_result"
    }
   ],
   "source": [
    "type(np_array0)\n"
   ]
  },
  {
   "cell_type": "code",
   "execution_count": 49,
   "metadata": {
    "collapsed": false
   },
   "outputs": [
    {
     "data": {
      "text/plain": [
       "numpy.ndarray"
      ]
     },
     "execution_count": 49,
     "metadata": {},
     "output_type": "execute_result"
    }
   ],
   "source": [
    "type(np_array1)\n"
   ]
  },
  {
   "cell_type": "code",
   "execution_count": null,
   "metadata": {
    "collapsed": true
   },
   "outputs": [],
   "source": []
  },
  {
   "cell_type": "markdown",
   "metadata": {},
   "source": [
    "We can also do mathematical operations between columns (and rows) of a `DataFrame`, for example (we only display the first 5 rows),"
   ]
  },
  {
   "cell_type": "code",
   "execution_count": 50,
   "metadata": {
    "collapsed": false
   },
   "outputs": [
    {
     "data": {
      "text/plain": [
       "3     22700\n",
       "4      9100\n",
       "6     12200\n",
       "9      2600\n",
       "12   -12700\n",
       "Name: LOC_X, dtype: int64"
      ]
     },
     "execution_count": 50,
     "metadata": {},
     "output_type": "execute_result"
    }
   ],
   "source": [
    "(three_pointer['LOC_X']*100).head()\n",
    "#(three_pointer*0).head()\n"
   ]
  },
  {
   "cell_type": "code",
   "execution_count": 51,
   "metadata": {
    "collapsed": false
   },
   "outputs": [
    {
     "data": {
      "text/plain": [
       "3     0.949219\n",
       "4    -0.002561\n",
       "6    -0.002046\n",
       "9    -0.003597\n",
       "12   -0.006749\n",
       "dtype: float64"
      ]
     },
     "execution_count": 51,
     "metadata": {},
     "output_type": "execute_result"
    }
   ],
   "source": [
    "((three_pointer['LOC_X']-three_pointer.LOC_Y)/three_pointer.LOC_Y**2).head()\n"
   ]
  },
  {
   "cell_type": "code",
   "execution_count": 52,
   "metadata": {
    "collapsed": false
   },
   "outputs": [
    {
     "data": {
      "text/plain": [
       "3     0.941909\n",
       "4     0.377593\n",
       "6     0.506224\n",
       "9     0.107884\n",
       "12   -0.526971\n",
       "Name: LOC_X, dtype: float64"
      ]
     },
     "execution_count": 52,
     "metadata": {},
     "output_type": "execute_result"
    }
   ],
   "source": [
    "(three_pointer['LOC_X']/three_pointer['LOC_X'].max()).head()\n"
   ]
  },
  {
   "cell_type": "code",
   "execution_count": null,
   "metadata": {
    "collapsed": false
   },
   "outputs": [],
   "source": []
  },
  {
   "cell_type": "markdown",
   "metadata": {
    "collapsed": false
   },
   "source": [
    "To create a new `DataFrame` with the normalized values of `LOC_X` and `LOC_Y`, "
   ]
  },
  {
   "cell_type": "code",
   "execution_count": 53,
   "metadata": {
    "collapsed": false
   },
   "outputs": [
    {
     "data": {
      "text/html": [
       "<div>\n",
       "<table border=\"1\" class=\"dataframe\">\n",
       "  <thead>\n",
       "    <tr style=\"text-align: right;\">\n",
       "      <th></th>\n",
       "      <th>c1</th>\n",
       "      <th>c2</th>\n",
       "    </tr>\n",
       "  </thead>\n",
       "  <tbody>\n",
       "    <tr>\n",
       "      <th>3</th>\n",
       "      <td>0.941909</td>\n",
       "      <td>-0.038278</td>\n",
       "    </tr>\n",
       "    <tr>\n",
       "      <th>4</th>\n",
       "      <td>0.377593</td>\n",
       "      <td>0.588517</td>\n",
       "    </tr>\n",
       "    <tr>\n",
       "      <th>6</th>\n",
       "      <td>0.506224</td>\n",
       "      <td>0.562201</td>\n",
       "    </tr>\n",
       "    <tr>\n",
       "      <th>9</th>\n",
       "      <td>0.107884</td>\n",
       "      <td>0.595694</td>\n",
       "    </tr>\n",
       "    <tr>\n",
       "      <th>12</th>\n",
       "      <td>-0.526971</td>\n",
       "      <td>0.550239</td>\n",
       "    </tr>\n",
       "  </tbody>\n",
       "</table>\n",
       "</div>"
      ],
      "text/plain": [
       "          c1        c2\n",
       "3   0.941909 -0.038278\n",
       "4   0.377593  0.588517\n",
       "6   0.506224  0.562201\n",
       "9   0.107884  0.595694\n",
       "12 -0.526971  0.550239"
      ]
     },
     "execution_count": 53,
     "metadata": {},
     "output_type": "execute_result"
    }
   ],
   "source": [
    "df_norm = pd.DataFrame()\n",
    "c1=three_pointer['LOC_X']/three_pointer['LOC_X'].max()\n",
    "c2=three_pointer['LOC_Y']/three_pointer['LOC_Y'].max()\n",
    "df_norm['c1'] = c1\n",
    "df_norm['c2'] = c2\n",
    "df_norm.head()\n"
   ]
  },
  {
   "cell_type": "markdown",
   "metadata": {
    "collapsed": true
   },
   "source": [
    "Notice that we only display the first 5 rows."
   ]
  },
  {
   "cell_type": "markdown",
   "metadata": {},
   "source": [
    "To generate a summary statistics of a `DataFrame`."
   ]
  },
  {
   "cell_type": "code",
   "execution_count": 54,
   "metadata": {
    "collapsed": false
   },
   "outputs": [
    {
     "data": {
      "text/html": [
       "<div>\n",
       "<table border=\"1\" class=\"dataframe\">\n",
       "  <thead>\n",
       "    <tr style=\"text-align: right;\">\n",
       "      <th></th>\n",
       "      <th>GAME_ID</th>\n",
       "      <th>GAME_EVENT_ID</th>\n",
       "      <th>PLAYER_ID</th>\n",
       "      <th>TEAM_ID</th>\n",
       "      <th>PERIOD</th>\n",
       "      <th>MINUTES_REMAINING</th>\n",
       "      <th>SECONDS_REMAINING</th>\n",
       "      <th>SHOT_DISTANCE</th>\n",
       "      <th>LOC_X</th>\n",
       "      <th>LOC_Y</th>\n",
       "      <th>SHOT_ATTEMPTED_FLAG</th>\n",
       "      <th>SHOT_MADE_FLAG</th>\n",
       "    </tr>\n",
       "  </thead>\n",
       "  <tbody>\n",
       "    <tr>\n",
       "      <th>count</th>\n",
       "      <td>1279.000000</td>\n",
       "      <td>1279.000000</td>\n",
       "      <td>1279</td>\n",
       "      <td>1279</td>\n",
       "      <td>1279.000000</td>\n",
       "      <td>1279.000000</td>\n",
       "      <td>1279.000000</td>\n",
       "      <td>1279.000000</td>\n",
       "      <td>1279.000000</td>\n",
       "      <td>1279.000000</td>\n",
       "      <td>1279</td>\n",
       "      <td>1279.000000</td>\n",
       "    </tr>\n",
       "    <tr>\n",
       "      <th>mean</th>\n",
       "      <td>21400602.060985</td>\n",
       "      <td>250.136044</td>\n",
       "      <td>2544</td>\n",
       "      <td>1610612739</td>\n",
       "      <td>2.448006</td>\n",
       "      <td>5.295543</td>\n",
       "      <td>28.170446</td>\n",
       "      <td>12.136826</td>\n",
       "      <td>-13.997654</td>\n",
       "      <td>83.936669</td>\n",
       "      <td>1</td>\n",
       "      <td>0.487881</td>\n",
       "    </tr>\n",
       "    <tr>\n",
       "      <th>std</th>\n",
       "      <td>346.471023</td>\n",
       "      <td>156.436191</td>\n",
       "      <td>0</td>\n",
       "      <td>0</td>\n",
       "      <td>1.137046</td>\n",
       "      <td>3.566744</td>\n",
       "      <td>17.278734</td>\n",
       "      <td>10.302508</td>\n",
       "      <td>104.266921</td>\n",
       "      <td>91.996852</td>\n",
       "      <td>0</td>\n",
       "      <td>0.500049</td>\n",
       "    </tr>\n",
       "    <tr>\n",
       "      <th>min</th>\n",
       "      <td>21400018.000000</td>\n",
       "      <td>2.000000</td>\n",
       "      <td>2544</td>\n",
       "      <td>1610612739</td>\n",
       "      <td>1.000000</td>\n",
       "      <td>0.000000</td>\n",
       "      <td>0.000000</td>\n",
       "      <td>0.000000</td>\n",
       "      <td>-245.000000</td>\n",
       "      <td>-30.000000</td>\n",
       "      <td>1</td>\n",
       "      <td>0.000000</td>\n",
       "    </tr>\n",
       "    <tr>\n",
       "      <th>25%</th>\n",
       "      <td>21400281.000000</td>\n",
       "      <td>116.000000</td>\n",
       "      <td>2544</td>\n",
       "      <td>1610612739</td>\n",
       "      <td>1.000000</td>\n",
       "      <td>2.000000</td>\n",
       "      <td>13.000000</td>\n",
       "      <td>1.000000</td>\n",
       "      <td>-94.000000</td>\n",
       "      <td>4.000000</td>\n",
       "      <td>1</td>\n",
       "      <td>0.000000</td>\n",
       "    </tr>\n",
       "    <tr>\n",
       "      <th>50%</th>\n",
       "      <td>21400643.000000</td>\n",
       "      <td>254.000000</td>\n",
       "      <td>2544</td>\n",
       "      <td>1610612739</td>\n",
       "      <td>2.000000</td>\n",
       "      <td>5.000000</td>\n",
       "      <td>29.000000</td>\n",
       "      <td>12.000000</td>\n",
       "      <td>-2.000000</td>\n",
       "      <td>42.000000</td>\n",
       "      <td>1</td>\n",
       "      <td>0.000000</td>\n",
       "    </tr>\n",
       "    <tr>\n",
       "      <th>75%</th>\n",
       "      <td>21400891.000000</td>\n",
       "      <td>379.000000</td>\n",
       "      <td>2544</td>\n",
       "      <td>1610612739</td>\n",
       "      <td>3.000000</td>\n",
       "      <td>8.000000</td>\n",
       "      <td>42.000000</td>\n",
       "      <td>23.000000</td>\n",
       "      <td>22.000000</td>\n",
       "      <td>164.000000</td>\n",
       "      <td>1</td>\n",
       "      <td>1.000000</td>\n",
       "    </tr>\n",
       "    <tr>\n",
       "      <th>max</th>\n",
       "      <td>21401203.000000</td>\n",
       "      <td>628.000000</td>\n",
       "      <td>2544</td>\n",
       "      <td>1610612739</td>\n",
       "      <td>5.000000</td>\n",
       "      <td>11.000000</td>\n",
       "      <td>59.000000</td>\n",
       "      <td>46.000000</td>\n",
       "      <td>241.000000</td>\n",
       "      <td>418.000000</td>\n",
       "      <td>1</td>\n",
       "      <td>1.000000</td>\n",
       "    </tr>\n",
       "  </tbody>\n",
       "</table>\n",
       "</div>"
      ],
      "text/plain": [
       "               GAME_ID  GAME_EVENT_ID  PLAYER_ID     TEAM_ID       PERIOD  \\\n",
       "count      1279.000000    1279.000000       1279        1279  1279.000000   \n",
       "mean   21400602.060985     250.136044       2544  1610612739     2.448006   \n",
       "std         346.471023     156.436191          0           0     1.137046   \n",
       "min    21400018.000000       2.000000       2544  1610612739     1.000000   \n",
       "25%    21400281.000000     116.000000       2544  1610612739     1.000000   \n",
       "50%    21400643.000000     254.000000       2544  1610612739     2.000000   \n",
       "75%    21400891.000000     379.000000       2544  1610612739     3.000000   \n",
       "max    21401203.000000     628.000000       2544  1610612739     5.000000   \n",
       "\n",
       "       MINUTES_REMAINING  SECONDS_REMAINING  SHOT_DISTANCE        LOC_X  \\\n",
       "count        1279.000000        1279.000000    1279.000000  1279.000000   \n",
       "mean            5.295543          28.170446      12.136826   -13.997654   \n",
       "std             3.566744          17.278734      10.302508   104.266921   \n",
       "min             0.000000           0.000000       0.000000  -245.000000   \n",
       "25%             2.000000          13.000000       1.000000   -94.000000   \n",
       "50%             5.000000          29.000000      12.000000    -2.000000   \n",
       "75%             8.000000          42.000000      23.000000    22.000000   \n",
       "max            11.000000          59.000000      46.000000   241.000000   \n",
       "\n",
       "             LOC_Y  SHOT_ATTEMPTED_FLAG  SHOT_MADE_FLAG  \n",
       "count  1279.000000                 1279     1279.000000  \n",
       "mean     83.936669                    1        0.487881  \n",
       "std      91.996852                    0        0.500049  \n",
       "min     -30.000000                    1        0.000000  \n",
       "25%       4.000000                    1        0.000000  \n",
       "50%      42.000000                    1        0.000000  \n",
       "75%     164.000000                    1        1.000000  \n",
       "max     418.000000                    1        1.000000  "
      ]
     },
     "execution_count": 54,
     "metadata": {},
     "output_type": "execute_result"
    }
   ],
   "source": [
    "shot_df1.describe()"
   ]
  },
  {
   "cell_type": "markdown",
   "metadata": {
    "collapsed": true
   },
   "source": [
    "Notice that it computes the statistics only of the columns with numerical values."
   ]
  },
  {
   "cell_type": "code",
   "execution_count": null,
   "metadata": {
    "collapsed": true
   },
   "outputs": [],
   "source": []
  },
  {
   "cell_type": "markdown",
   "metadata": {},
   "source": [
    "To count the total number of 3 point shots attempted,"
   ]
  },
  {
   "cell_type": "code",
   "execution_count": 55,
   "metadata": {
    "collapsed": false
   },
   "outputs": [
    {
     "data": {
      "text/plain": [
       "LOC_X             339\n",
       "LOC_Y             339\n",
       "SHOT_MADE_FLAG    339\n",
       "SHOT_TYPE         339\n",
       "dtype: int64"
      ]
     },
     "execution_count": 55,
     "metadata": {},
     "output_type": "execute_result"
    }
   ],
   "source": [
    "three_pointer.count()"
   ]
  },
  {
   "cell_type": "code",
   "execution_count": null,
   "metadata": {
    "collapsed": true
   },
   "outputs": [],
   "source": []
  },
  {
   "cell_type": "markdown",
   "metadata": {},
   "source": [
    "To count the number of 3 point shots converted and only for the column **SHOT_MADE_FLAG**,"
   ]
  },
  {
   "cell_type": "code",
   "execution_count": 56,
   "metadata": {
    "collapsed": false
   },
   "outputs": [
    {
     "data": {
      "text/plain": [
       "120"
      ]
     },
     "execution_count": 56,
     "metadata": {},
     "output_type": "execute_result"
    }
   ],
   "source": [
    "three_pointer.SHOT_MADE_FLAG[three_pointer.SHOT_MADE_FLAG == 1].count()"
   ]
  },
  {
   "cell_type": "code",
   "execution_count": null,
   "metadata": {
    "collapsed": true
   },
   "outputs": [],
   "source": []
  },
  {
   "cell_type": "markdown",
   "metadata": {},
   "source": [
    "and to count the number of 3 point shots missed,"
   ]
  },
  {
   "cell_type": "code",
   "execution_count": 57,
   "metadata": {
    "collapsed": false
   },
   "outputs": [
    {
     "data": {
      "text/plain": [
       "219"
      ]
     },
     "execution_count": 57,
     "metadata": {},
     "output_type": "execute_result"
    }
   ],
   "source": [
    "three_pointer.SHOT_MADE_FLAG[three_pointer.SHOT_MADE_FLAG == 0].count()"
   ]
  },
  {
   "cell_type": "code",
   "execution_count": null,
   "metadata": {
    "collapsed": true
   },
   "outputs": [],
   "source": []
  },
  {
   "cell_type": "code",
   "execution_count": null,
   "metadata": {
    "collapsed": true
   },
   "outputs": [],
   "source": []
  },
  {
   "cell_type": "markdown",
   "metadata": {},
   "source": [
    "At this point, let's do some basic plotting using **matplotlib** [2].  \n",
    "\n",
    "The first plot will be the converted and missed shots using the `DataFrames` we just created, that is, we are going to plot the shot charts."
   ]
  },
  {
   "cell_type": "code",
   "execution_count": 58,
   "metadata": {
    "collapsed": false
   },
   "outputs": [
    {
     "data": {
      "image/png": "[encoded data removed]",
      "text/plain": [
       "<matplotlib.figure.Figure at 0x109223810>"
      ]
     },
     "metadata": {},
     "output_type": "display_data"
    }
   ],
   "source": [
    "sns.set_style(\"white\")\n",
    "sns.set_color_codes()\n",
    "\n",
    "#shottrue = shot_df1[shot_df.SHOT_MADE_FLAG == 1]\n",
    "#shotfalse = shot_df1[shot_df.SHOT_MADE_FLAG == 0]\n",
    "\n",
    "plt.figure(figsize=(12,11))\n",
    "\n",
    "plt.scatter(converted.LOC_X, converted.LOC_Y, color='green',label='converted',s=20,marker='o',alpha=0.5)\n",
    "plt.scatter(missed.LOC_X, missed.LOC_Y, color='red',label='missed',s=20,marker='o',alpha=0.5)\n",
    "\n",
    "#plt.scatter(shottrue.LOC_X, shottrue.LOC_Y)\n",
    "#plt.scatter(shotfalse.LOC_X, shotfalse.LOC_Y)\n",
    "\n",
    "plt.legend()\n",
    "plt.grid()\n",
    "\n",
    "plt.xlim(-300,300)\n",
    "plt.ylim(-100,500)\n",
    "#plt.grid()\n",
    "plt.show()"
   ]
  },
  {
   "cell_type": "markdown",
   "metadata": {
    "collapsed": true
   },
   "source": [
    "**FYI, the values in LOC_X and LOC_Y are in inches**"
   ]
  },
  {
   "cell_type": "code",
   "execution_count": null,
   "metadata": {
    "collapsed": true
   },
   "outputs": [],
   "source": []
  },
  {
   "cell_type": "markdown",
   "metadata": {
    "collapsed": true
   },
   "source": [
    "Let's do a plot of all the 3 point shots."
   ]
  },
  {
   "cell_type": "code",
   "execution_count": 59,
   "metadata": {
    "collapsed": false
   },
   "outputs": [
    {
     "data": {
      "image/png": "[encoded data removed]",
      "text/plain": [
       "<matplotlib.figure.Figure at 0x10923a090>"
      ]
     },
     "metadata": {},
     "output_type": "display_data"
    }
   ],
   "source": [
    "sns.set_style(\"white\")\n",
    "sns.set_color_codes()\n",
    "\n",
    "#shottrue = shot_df1[shot_df.SHOT_MADE_FLAG == 1]\n",
    "#shotfalse = shot_df1[shot_df.SHOT_MADE_FLAG == 0]\n",
    "\n",
    "plt.figure(figsize=(12,11))\n",
    "\n",
    "plt.scatter(three_pointer.LOC_X, three_pointer.LOC_Y, color='green',label='3 point shots',s=20,marker='o',alpha=0.5)\n",
    "\n",
    "\n",
    "#plt.scatter(shottrue.LOC_X, shottrue.LOC_Y)\n",
    "#plt.scatter(shotfalse.LOC_X, shotfalse.LOC_Y)\n",
    "\n",
    "plt.legend()\n",
    "\n",
    "plt.xlim(-300,300)\n",
    "plt.ylim(-100,500)\n",
    "#plt.grid()\n",
    "plt.show()"
   ]
  },
  {
   "cell_type": "code",
   "execution_count": null,
   "metadata": {
    "collapsed": true
   },
   "outputs": [],
   "source": []
  },
  {
   "cell_type": "markdown",
   "metadata": {},
   "source": [
    "We can also plot all the 3 point shots by converted and missed, as follows,"
   ]
  },
  {
   "cell_type": "code",
   "execution_count": 60,
   "metadata": {
    "collapsed": false
   },
   "outputs": [
    {
     "data": {
      "image/png": "[encoded data removed]",
      "text/plain": [
       "<matplotlib.figure.Figure at 0x109656410>"
      ]
     },
     "metadata": {},
     "output_type": "display_data"
    }
   ],
   "source": [
    "sns.set_style(\"white\")\n",
    "sns.set_color_codes()\n",
    "\n",
    "#shottrue = shot_df1[shot_df.SHOT_MADE_FLAG == 1]\n",
    "#shotfalse = shot_df1[shot_df.SHOT_MADE_FLAG == 0]\n",
    "\n",
    "plt.figure(figsize=(12,11))\n",
    "\n",
    "plt.scatter(three_pointer.LOC_X[three_pointer.SHOT_MADE_FLAG == 1], three_pointer.LOC_Y[three_pointer.SHOT_MADE_FLAG == 1], color='green',label='3 point shots converted',s=20,marker='o',alpha=0.5)\n",
    "plt.scatter(three_pointer.LOC_X[three_pointer.SHOT_MADE_FLAG == 0], three_pointer.LOC_Y[three_pointer.SHOT_MADE_FLAG == 0], color='red',label='3 point shots missed',s=20,marker='o',alpha=0.5)\n",
    "\n",
    "\n",
    "#plt.scatter(shottrue.LOC_X, shottrue.LOC_Y)\n",
    "#plt.scatter(shotfalse.LOC_X, shotfalse.LOC_Y)\n",
    "\n",
    "plt.legend()\n",
    "\n",
    "plt.xlim(-300,300)\n",
    "plt.ylim(-100,500)\n",
    "#plt.grid()\n",
    "plt.show()"
   ]
  },
  {
   "cell_type": "code",
   "execution_count": null,
   "metadata": {
    "collapsed": false
   },
   "outputs": [],
   "source": []
  },
  {
   "cell_type": "markdown",
   "metadata": {},
   "source": [
    "Finally, we can use **seaborn** [3] to do more advanced plots,"
   ]
  },
  {
   "cell_type": "code",
   "execution_count": 61,
   "metadata": {
    "collapsed": false
   },
   "outputs": [
    {
     "data": {
      "text/plain": [
       "<matplotlib.figure.Figure at 0x10966b210>"
      ]
     },
     "execution_count": 61,
     "metadata": {},
     "output_type": "execute_result"
    },
    {
     "data": {
      "image/png": "[encoded data removed]",
      "text/plain": [
       "<matplotlib.figure.Figure at 0x10966b710>"
      ]
     },
     "metadata": {},
     "output_type": "display_data"
    },
    {
     "data": {
      "text/plain": [
       "<matplotlib.figure.Figure at 0x10966b210>"
      ]
     },
     "metadata": {},
     "output_type": "display_data"
    }
   ],
   "source": [
    "# create our jointplot\n",
    "joint_shot_chart = sns.jointplot(shot_df1.LOC_X, shot_df1.LOC_Y, stat_func=None,\n",
    "                                 kind='scatter', space=0.2, alpha=1, \n",
    "                                 size=12, edgecolor='w', color='g').set_axis_labels(\"x location\", \"y location\")\n",
    "\n",
    "plt.figure(figsize=(12,11))"
   ]
  },
  {
   "cell_type": "code",
   "execution_count": null,
   "metadata": {
    "collapsed": true
   },
   "outputs": [],
   "source": []
  },
  {
   "cell_type": "markdown",
   "metadata": {},
   "source": [
    "### In the next tutorial, we are going to work a little bit more on data analytics and advanced plotting."
   ]
  },
  {
   "cell_type": "code",
   "execution_count": null,
   "metadata": {
    "collapsed": true
   },
   "outputs": [],
   "source": []
  },
  {
   "cell_type": "markdown",
   "metadata": {},
   "source": [
    "# References\n",
    "\n",
    "[1] http://pandas.pydata.org/\n",
    "    \n",
    "[2]    http://matplotlib.org/\n",
    "\n",
    "[3] http://stanford.edu/~mwaskom/software/seaborn/"
   ]
  },
  {
   "cell_type": "code",
   "execution_count": null,
   "metadata": {
    "collapsed": true
   },
   "outputs": [],
   "source": []
  },
  {
   "cell_type": "code",
   "execution_count": null,
   "metadata": {
    "collapsed": true
   },
   "outputs": [],
   "source": []
  },
  {
   "cell_type": "code",
   "execution_count": null,
   "metadata": {
    "collapsed": true
   },
   "outputs": [],
   "source": []
  },
  {
   "cell_type": "code",
   "execution_count": 62,
   "metadata": {
    "collapsed": false
   },
   "outputs": [],
   "source": [
    "#import sys\n",
    "#print('Python version:', sys.version_info)\n",
    "\n",
    "#import IPython\n",
    "#print('IPython version:', IPython.__version__)\n",
    "\n",
    "#print('Requests version', requests.__version__)\n",
    "#print('Pandas version:', pd.__version__)\n",
    "#print('json version:', json.__version__)\n",
    "\n",
    "#import matplotlib\n",
    "#print('matplotlib version:', matplotlib.__version__)\n",
    "\n",
    "#print('seaborn version:', sns.__version__)"
   ]
  },
  {
   "cell_type": "code",
   "execution_count": null,
   "metadata": {
    "collapsed": true
   },
   "outputs": [],
   "source": []
  }
 ],
 "metadata": {
  "kernelspec": {
   "display_name": "Python 2",
   "language": "python",
   "name": "python2"
  },
  "language_info": {
   "codemirror_mode": {
    "name": "ipython",
    "version": 2
   },
   "file_extension": ".py",
   "mimetype": "text/x-python",
   "name": "python",
   "nbconvert_exporter": "python",
   "pygments_lexer": "ipython2",
   "version": "2.7.10"
  }
 },
 "nbformat": 4,
 "nbformat_minor": 0
}
